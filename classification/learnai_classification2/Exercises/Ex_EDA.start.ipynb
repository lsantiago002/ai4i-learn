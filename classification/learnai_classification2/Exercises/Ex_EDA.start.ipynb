{
 "cells": [
  {
   "cell_type": "markdown",
   "metadata": {},
   "source": [
    "# Classification 2\n",
    "\n",
    "## Exercise 1: Exploratory Data Analysis\n",
    "\n",
    "### Overview\n",
    "\n",
    "The objective of this course is to build models to predict customer churn for a fictitious telco company. Before we start creating models, let's begin by having a closer look at our data and doing some basic data wrangling.\n",
    "\n",
    "Go through this notebook and modify the code accordingly (i.e. #TASK) based on the text and/or the comments.\n",
    "\n",
    "### Data\n",
    "Download data from here:\n",
    "https://public.dhe.ibm.com/software/data/sw-library/cognos/mobile/C11/data/Telco_customer_churn.xlsx\n",
    "\n",
    "Description of data (for a newer version)\n",
    "https://community.ibm.com/community/user/businessanalytics/blogs/steven-macko/2019/07/11/telco-customer-churn-1113\n",
    "\n",
    "### Importing Libraries"
   ]
  },
  {
   "cell_type": "code",
   "execution_count": 19,
   "metadata": {},
   "outputs": [],
   "source": [
    "import numpy as np\n",
    "import pandas as pd \n",
    "import matplotlib.pyplot as plt\n",
    "import seaborn as sns\n",
    "# TASK: Import visualization libraries, matplotlib and seaborn using standard aliases plt and sns respectively\n",
    "\n",
    "import warnings\n",
    "\n",
    "# silence all warnings\n",
    "warnings.filterwarnings(\"ignore\")\n",
    "\n",
    "# plotting settings\n",
    "plt.style.use(['seaborn-paper'])\n",
    "plt.rcParams['font.family'] = 'helvetica'"
   ]
  },
  {
   "cell_type": "markdown",
   "metadata": {},
   "source": [
    "### Reading in the Data"
   ]
  },
  {
   "cell_type": "code",
   "execution_count": 20,
   "metadata": {},
   "outputs": [
    {
     "output_type": "execute_result",
     "data": {
      "text/plain": [
       "   CustomerID  Count        Country       State         City  Zip Code  \\\n",
       "0  3668-QPYBK      1  United States  California  Los Angeles     90003   \n",
       "1  9237-HQITU      1  United States  California  Los Angeles     90005   \n",
       "2  9305-CDSKC      1  United States  California  Los Angeles     90006   \n",
       "3  7892-POOKP      1  United States  California  Los Angeles     90010   \n",
       "4  0280-XJGEX      1  United States  California  Los Angeles     90015   \n",
       "\n",
       "                 Lat Long   Latitude   Longitude  Gender  ...        Contract  \\\n",
       "0  33.964131, -118.272783  33.964131 -118.272783    Male  ...  Month-to-month   \n",
       "1   34.059281, -118.30742  34.059281 -118.307420  Female  ...  Month-to-month   \n",
       "2  34.048013, -118.293953  34.048013 -118.293953  Female  ...  Month-to-month   \n",
       "3  34.062125, -118.315709  34.062125 -118.315709  Female  ...  Month-to-month   \n",
       "4  34.039224, -118.266293  34.039224 -118.266293    Male  ...  Month-to-month   \n",
       "\n",
       "  Paperless Billing             Payment Method  Monthly Charges Total Charges  \\\n",
       "0               Yes               Mailed check            53.85        108.15   \n",
       "1               Yes           Electronic check            70.70        151.65   \n",
       "2               Yes           Electronic check            99.65         820.5   \n",
       "3               Yes           Electronic check           104.80       3046.05   \n",
       "4               Yes  Bank transfer (automatic)           103.70        5036.3   \n",
       "\n",
       "  Churn Label Churn Value Churn Score  CLTV                   Churn Reason  \n",
       "0         Yes           1          86  3239   Competitor made better offer  \n",
       "1         Yes           1          67  2701                          Moved  \n",
       "2         Yes           1          86  5372                          Moved  \n",
       "3         Yes           1          84  5003                          Moved  \n",
       "4         Yes           1          89  5340  Competitor had better devices  \n",
       "\n",
       "[5 rows x 33 columns]"
      ],
      "text/html": "<div>\n<style scoped>\n    .dataframe tbody tr th:only-of-type {\n        vertical-align: middle;\n    }\n\n    .dataframe tbody tr th {\n        vertical-align: top;\n    }\n\n    .dataframe thead th {\n        text-align: right;\n    }\n</style>\n<table border=\"1\" class=\"dataframe\">\n  <thead>\n    <tr style=\"text-align: right;\">\n      <th></th>\n      <th>CustomerID</th>\n      <th>Count</th>\n      <th>Country</th>\n      <th>State</th>\n      <th>City</th>\n      <th>Zip Code</th>\n      <th>Lat Long</th>\n      <th>Latitude</th>\n      <th>Longitude</th>\n      <th>Gender</th>\n      <th>...</th>\n      <th>Contract</th>\n      <th>Paperless Billing</th>\n      <th>Payment Method</th>\n      <th>Monthly Charges</th>\n      <th>Total Charges</th>\n      <th>Churn Label</th>\n      <th>Churn Value</th>\n      <th>Churn Score</th>\n      <th>CLTV</th>\n      <th>Churn Reason</th>\n    </tr>\n  </thead>\n  <tbody>\n    <tr>\n      <th>0</th>\n      <td>3668-QPYBK</td>\n      <td>1</td>\n      <td>United States</td>\n      <td>California</td>\n      <td>Los Angeles</td>\n      <td>90003</td>\n      <td>33.964131, -118.272783</td>\n      <td>33.964131</td>\n      <td>-118.272783</td>\n      <td>Male</td>\n      <td>...</td>\n      <td>Month-to-month</td>\n      <td>Yes</td>\n      <td>Mailed check</td>\n      <td>53.85</td>\n      <td>108.15</td>\n      <td>Yes</td>\n      <td>1</td>\n      <td>86</td>\n      <td>3239</td>\n      <td>Competitor made better offer</td>\n    </tr>\n    <tr>\n      <th>1</th>\n      <td>9237-HQITU</td>\n      <td>1</td>\n      <td>United States</td>\n      <td>California</td>\n      <td>Los Angeles</td>\n      <td>90005</td>\n      <td>34.059281, -118.30742</td>\n      <td>34.059281</td>\n      <td>-118.307420</td>\n      <td>Female</td>\n      <td>...</td>\n      <td>Month-to-month</td>\n      <td>Yes</td>\n      <td>Electronic check</td>\n      <td>70.70</td>\n      <td>151.65</td>\n      <td>Yes</td>\n      <td>1</td>\n      <td>67</td>\n      <td>2701</td>\n      <td>Moved</td>\n    </tr>\n    <tr>\n      <th>2</th>\n      <td>9305-CDSKC</td>\n      <td>1</td>\n      <td>United States</td>\n      <td>California</td>\n      <td>Los Angeles</td>\n      <td>90006</td>\n      <td>34.048013, -118.293953</td>\n      <td>34.048013</td>\n      <td>-118.293953</td>\n      <td>Female</td>\n      <td>...</td>\n      <td>Month-to-month</td>\n      <td>Yes</td>\n      <td>Electronic check</td>\n      <td>99.65</td>\n      <td>820.5</td>\n      <td>Yes</td>\n      <td>1</td>\n      <td>86</td>\n      <td>5372</td>\n      <td>Moved</td>\n    </tr>\n    <tr>\n      <th>3</th>\n      <td>7892-POOKP</td>\n      <td>1</td>\n      <td>United States</td>\n      <td>California</td>\n      <td>Los Angeles</td>\n      <td>90010</td>\n      <td>34.062125, -118.315709</td>\n      <td>34.062125</td>\n      <td>-118.315709</td>\n      <td>Female</td>\n      <td>...</td>\n      <td>Month-to-month</td>\n      <td>Yes</td>\n      <td>Electronic check</td>\n      <td>104.80</td>\n      <td>3046.05</td>\n      <td>Yes</td>\n      <td>1</td>\n      <td>84</td>\n      <td>5003</td>\n      <td>Moved</td>\n    </tr>\n    <tr>\n      <th>4</th>\n      <td>0280-XJGEX</td>\n      <td>1</td>\n      <td>United States</td>\n      <td>California</td>\n      <td>Los Angeles</td>\n      <td>90015</td>\n      <td>34.039224, -118.266293</td>\n      <td>34.039224</td>\n      <td>-118.266293</td>\n      <td>Male</td>\n      <td>...</td>\n      <td>Month-to-month</td>\n      <td>Yes</td>\n      <td>Bank transfer (automatic)</td>\n      <td>103.70</td>\n      <td>5036.3</td>\n      <td>Yes</td>\n      <td>1</td>\n      <td>89</td>\n      <td>5340</td>\n      <td>Competitor had better devices</td>\n    </tr>\n  </tbody>\n</table>\n<p>5 rows × 33 columns</p>\n</div>"
     },
     "metadata": {},
     "execution_count": 20
    }
   ],
   "source": [
    "# TASK: Read in the Excel file. Use the parameter na_values=\" \" to convert any empty cells to a NA value.\n",
    "# You may also need to use parameter engine='openpyxl') in newer versions of pandas if you encounter an XLRD error.\n",
    "data = pd.read_excel('../../data/raw/Telco_customer_churn.xlsx', na_values='NA',engine='openpyxl') # TASK: Use pandas to read in an Excel file. \n",
    "\n",
    "data.head()"
   ]
  },
  {
   "cell_type": "code",
   "execution_count": 4,
   "metadata": {},
   "outputs": [
    {
     "output_type": "stream",
     "name": "stdout",
     "text": [
      "<class 'pandas.core.frame.DataFrame'>\nRangeIndex: 7043 entries, 0 to 7042\nData columns (total 33 columns):\n #   Column             Non-Null Count  Dtype  \n---  ------             --------------  -----  \n 0   CustomerID         7043 non-null   object \n 1   Count              7043 non-null   int64  \n 2   Country            7043 non-null   object \n 3   State              7043 non-null   object \n 4   City               7043 non-null   object \n 5   Zip Code           7043 non-null   int64  \n 6   Lat Long           7043 non-null   object \n 7   Latitude           7043 non-null   float64\n 8   Longitude          7043 non-null   float64\n 9   Gender             7043 non-null   object \n 10  Senior Citizen     7043 non-null   object \n 11  Partner            7043 non-null   object \n 12  Dependents         7043 non-null   object \n 13  Tenure Months      7043 non-null   int64  \n 14  Phone Service      7043 non-null   object \n 15  Multiple Lines     7043 non-null   object \n 16  Internet Service   7043 non-null   object \n 17  Online Security    7043 non-null   object \n 18  Online Backup      7043 non-null   object \n 19  Device Protection  7043 non-null   object \n 20  Tech Support       7043 non-null   object \n 21  Streaming TV       7043 non-null   object \n 22  Streaming Movies   7043 non-null   object \n 23  Contract           7043 non-null   object \n 24  Paperless Billing  7043 non-null   object \n 25  Payment Method     7043 non-null   object \n 26  Monthly Charges    7043 non-null   float64\n 27  Total Charges      7043 non-null   object \n 28  Churn Label        7043 non-null   object \n 29  Churn Value        7043 non-null   int64  \n 30  Churn Score        7043 non-null   int64  \n 31  CLTV               7043 non-null   int64  \n 32  Churn Reason       1869 non-null   object \ndtypes: float64(3), int64(6), object(24)\nmemory usage: 1.8+ MB\n"
     ]
    }
   ],
   "source": [
    "data.info()"
   ]
  },
  {
   "cell_type": "code",
   "execution_count": 21,
   "metadata": {},
   "outputs": [],
   "source": [
    "# Define columns to keep and filter the original dataset\n",
    "cols_to_keep = ['CustomerID', 'Gender', 'Senior Citizen', 'Partner', 'Dependents', 'Tenure Months', 'Phone Service', 'Multiple Lines', 'Internet Service', 'Online Security', 'Online Backup', 'Device Protection', 'Tech Support', 'Streaming TV', 'Streaming Movies', 'Contract', 'Paperless Billing', 'Payment Method', 'Monthly Charges', 'Total Charges', 'Churn Label']\n",
    "data = data[cols_to_keep]"
   ]
  },
  {
   "cell_type": "code",
   "execution_count": 4,
   "metadata": {},
   "outputs": [
    {
     "output_type": "execute_result",
     "data": {
      "text/plain": [
       "Index(['CustomerID', 'Gender', 'SeniorCitizen', 'Partner', 'Dependents',\n",
       "       'TenureMonths', 'PhoneService', 'MultipleLines', 'InternetService',\n",
       "       'OnlineSecurity', 'OnlineBackup', 'DeviceProtection', 'TechSupport',\n",
       "       'StreamingTV', 'StreamingMovies', 'Contract', 'PaperlessBilling',\n",
       "       'PaymentMethod', 'MonthlyCharges', 'TotalCharges', 'ChurnLabel'],\n",
       "      dtype='object')"
      ]
     },
     "metadata": {},
     "execution_count": 4
    }
   ],
   "source": [
    "# TASK: Rename the multi-worded columns to remove the space \n",
    "# HINT: You can either manually remove the spaces in the column name list or use a loop to remove the space\n",
    "data.columns = [('').join(col.split(' ')) for col in data.columns]\n",
    "data.columns"
   ]
  },
  {
   "cell_type": "markdown",
   "metadata": {},
   "source": [
    "### Basic Information"
   ]
  },
  {
   "cell_type": "code",
   "execution_count": 6,
   "metadata": {},
   "outputs": [
    {
     "output_type": "stream",
     "name": "stdout",
     "text": [
      "Rows & Columns: (7032, 21)\n"
     ]
    }
   ],
   "source": [
    "# TASK: Display the number of rows and columns for the dataset\n",
    "print(\"Rows & Columns: {}\".format(data.shape))"
   ]
  },
  {
   "cell_type": "code",
   "execution_count": 7,
   "metadata": {},
   "outputs": [
    {
     "output_type": "stream",
     "name": "stdout",
     "text": [
      "<class 'pandas.core.frame.DataFrame'>\nRangeIndex: 7043 entries, 0 to 7042\nData columns (total 21 columns):\n #   Column            Non-Null Count  Dtype  \n---  ------            --------------  -----  \n 0   CustomerID        7043 non-null   object \n 1   Gender            7043 non-null   object \n 2   SeniorCitizen     7043 non-null   object \n 3   Partner           7043 non-null   object \n 4   Dependents        7043 non-null   object \n 5   TenureMonths      7043 non-null   int64  \n 6   PhoneService      7043 non-null   object \n 7   MultipleLines     7043 non-null   object \n 8   InternetService   7043 non-null   object \n 9   OnlineSecurity    7043 non-null   object \n 10  OnlineBackup      7043 non-null   object \n 11  DeviceProtection  7043 non-null   object \n 12  TechSupport       7043 non-null   object \n 13  StreamingTV       7043 non-null   object \n 14  StreamingMovies   7043 non-null   object \n 15  Contract          7043 non-null   object \n 16  PaperlessBilling  7043 non-null   object \n 17  PaymentMethod     7043 non-null   object \n 18  MonthlyCharges    7043 non-null   float64\n 19  TotalCharges      7043 non-null   object \n 20  ChurnLabel        7043 non-null   object \ndtypes: float64(1), int64(1), object(19)\nmemory usage: 1.1+ MB\n"
     ]
    }
   ],
   "source": [
    "data.info()"
   ]
  },
  {
   "cell_type": "code",
   "execution_count": 4,
   "metadata": {},
   "outputs": [
    {
     "output_type": "stream",
     "name": "stdout",
     "text": [
      "Number of non-numerical columns: 24\nNumber of numerical columns: 9\n"
     ]
    },
    {
     "output_type": "execute_result",
     "data": {
      "text/plain": [
       "CustomerID            object\n",
       "Count                  int64\n",
       "Country               object\n",
       "State                 object\n",
       "City                  object\n",
       "Zip Code               int64\n",
       "Lat Long              object\n",
       "Latitude             float64\n",
       "Longitude            float64\n",
       "Gender                object\n",
       "Senior Citizen        object\n",
       "Partner               object\n",
       "Dependents            object\n",
       "Tenure Months          int64\n",
       "Phone Service         object\n",
       "Multiple Lines        object\n",
       "Internet Service      object\n",
       "Online Security       object\n",
       "Online Backup         object\n",
       "Device Protection     object\n",
       "Tech Support          object\n",
       "Streaming TV          object\n",
       "Streaming Movies      object\n",
       "Contract              object\n",
       "Paperless Billing     object\n",
       "Payment Method        object\n",
       "Monthly Charges      float64\n",
       "Total Charges         object\n",
       "Churn Label           object\n",
       "Churn Value            int64\n",
       "Churn Score            int64\n",
       "CLTV                   int64\n",
       "Churn Reason          object\n",
       "dtype: object"
      ]
     },
     "metadata": {},
     "execution_count": 4
    }
   ],
   "source": [
    "# TASK: Display the datatypes for the columns in the dataframe i.e. use the dtypes variable\n",
    "# How many columns are numerical and how many are non-numerical\n",
    "obj_cols = data.select_dtypes(include=\"object\").columns\n",
    "print(\"Number of non-numerical columns: {}\".format(len(obj_cols)))\n",
    "\n",
    "num_cols = data.select_dtypes(exclude=\"object\").columns\n",
    "print(\"Number of numerical columns: {}\".format(len(num_cols)))\n",
    "\n",
    "# check that cat + num = total\n",
    "assert(len(obj_cols) + len(num_cols) == len(data.columns))\n",
    "\n",
    "data.dtypes\n"
   ]
  },
  {
   "cell_type": "code",
   "execution_count": 27,
   "metadata": {},
   "outputs": [
    {
     "output_type": "stream",
     "name": "stdout",
     "text": [
      "CustomerID          7043\nGender              7043\nSeniorCitizen       7043\nPartner             7043\nDependents          7043\nTenureMonths        7043\nPhoneService        7043\nMultipleLines       7043\nInternetService     7043\nOnlineSecurity      7043\nOnlineBackup        7043\nDeviceProtection    7043\nTechSupport         7043\nStreamingTV         7043\nStreamingMovies     7043\nContract            7043\nPaperlessBilling    7043\nPaymentMethod       7043\nMonthlyCharges      7043\nTotalCharges        7043\nChurnLabel          7043\ndtype: int64\n\n\nCustomerID          0.0\nGender              0.0\nSeniorCitizen       0.0\nPartner             0.0\nDependents          0.0\nTenureMonths        0.0\nPhoneService        0.0\nMultipleLines       0.0\nInternetService     0.0\nOnlineSecurity      0.0\nOnlineBackup        0.0\nDeviceProtection    0.0\nTechSupport         0.0\nStreamingTV         0.0\nStreamingMovies     0.0\nContract            0.0\nPaperlessBilling    0.0\nPaymentMethod       0.0\nMonthlyCharges      0.0\nTotalCharges        0.0\nChurnLabel          0.0\ndtype: float64\n"
     ]
    }
   ],
   "source": [
    "# TASK: use count() on the dataframe to count the number of entries for each of the column. Are there any columns with missing values?\n",
    "print(data.count())\n",
    "\n",
    "# to check for missing % \n",
    "print(\"\\n\")\n",
    "print(data.isnull().mean())     # TotalCharges has null values, but relatively small 0.001562\n",
    "                    # ChurnReason has ~73% mising values\n"
   ]
  },
  {
   "cell_type": "code",
   "execution_count": 28,
   "metadata": {},
   "outputs": [
    {
     "output_type": "stream",
     "name": "stdout",
     "text": [
      "CustomerID          7043\nGender                 2\nSeniorCitizen          2\nPartner                2\nDependents             2\nTenureMonths          73\nPhoneService           2\nMultipleLines          3\nInternetService        3\nOnlineSecurity         3\nOnlineBackup           3\nDeviceProtection       3\nTechSupport            3\nStreamingTV            3\nStreamingMovies        3\nContract               3\nPaperlessBilling       2\nPaymentMethod          4\nMonthlyCharges      1585\nTotalCharges        6531\nChurnLabel             2\ndtype: int64\n"
     ]
    }
   ],
   "source": [
    "# TASK: Use nunique() on the dataframe to count the number of unique values for each of the columns\n",
    "print(data.nunique())"
   ]
  },
  {
   "cell_type": "code",
   "execution_count": 29,
   "metadata": {},
   "outputs": [
    {
     "output_type": "execute_result",
     "data": {
      "text/plain": [
       "SeniorCitizen                              No\n",
       "Partner                                   Yes\n",
       "Dependents                                Yes\n",
       "TenureMonths                                7\n",
       "PhoneService                              Yes\n",
       "MultipleLines                              No\n",
       "InternetService                   Fiber optic\n",
       "OnlineSecurity                             No\n",
       "OnlineBackup                               No\n",
       "DeviceProtection                          Yes\n",
       "TechSupport                                No\n",
       "StreamingTV                                No\n",
       "StreamingMovies                            No\n",
       "Contract                       Month-to-month\n",
       "PaperlessBilling                          Yes\n",
       "PaymentMethod       Bank transfer (automatic)\n",
       "MonthlyCharges                          75.15\n",
       "TotalCharges                            496.9\n",
       "ChurnLabel                                Yes\n",
       "Name: 20, dtype: object"
      ]
     },
     "metadata": {},
     "execution_count": 29
    }
   ],
   "source": [
    "data.iloc[20,2:]\n"
   ]
  },
  {
   "cell_type": "code",
   "execution_count": 30,
   "metadata": {},
   "outputs": [
    {
     "output_type": "execute_result",
     "data": {
      "text/plain": [
       "   CustomerID  Gender SeniorCitizen Partner Dependents  TenureMonths  \\\n",
       "0  3668-QPYBK    Male            No      No         No             2   \n",
       "1  9237-HQITU  Female            No      No        Yes             2   \n",
       "2  9305-CDSKC  Female            No      No        Yes             8   \n",
       "3  7892-POOKP  Female            No     Yes        Yes            28   \n",
       "4  0280-XJGEX    Male            No      No        Yes            49   \n",
       "5  4190-MFLUW  Female            No     Yes         No            10   \n",
       "6  8779-QRDMV    Male           Yes      No         No             1   \n",
       "7  1066-JKSGK    Male            No      No         No             1   \n",
       "8  6467-CHFZW    Male            No     Yes        Yes            47   \n",
       "9  8665-UTDHZ    Male            No     Yes         No             1   \n",
       "\n",
       "  PhoneService     MultipleLines InternetService       OnlineSecurity  ...  \\\n",
       "0          Yes                No             DSL                  Yes  ...   \n",
       "1          Yes                No     Fiber optic                   No  ...   \n",
       "2          Yes               Yes     Fiber optic                   No  ...   \n",
       "3          Yes               Yes     Fiber optic                   No  ...   \n",
       "4          Yes               Yes     Fiber optic                   No  ...   \n",
       "5          Yes                No             DSL                   No  ...   \n",
       "6           No  No phone service             DSL                   No  ...   \n",
       "7          Yes                No              No  No internet service  ...   \n",
       "8          Yes               Yes     Fiber optic                   No  ...   \n",
       "9           No  No phone service             DSL                   No  ...   \n",
       "\n",
       "      DeviceProtection          TechSupport          StreamingTV  \\\n",
       "0                   No                   No                   No   \n",
       "1                   No                   No                   No   \n",
       "2                  Yes                   No                  Yes   \n",
       "3                  Yes                  Yes                  Yes   \n",
       "4                  Yes                   No                  Yes   \n",
       "5                  Yes                  Yes                   No   \n",
       "6                  Yes                   No                   No   \n",
       "7  No internet service  No internet service  No internet service   \n",
       "8                   No                   No                  Yes   \n",
       "9                   No                   No                   No   \n",
       "\n",
       "       StreamingMovies        Contract PaperlessBilling  \\\n",
       "0                   No  Month-to-month              Yes   \n",
       "1                   No  Month-to-month              Yes   \n",
       "2                  Yes  Month-to-month              Yes   \n",
       "3                  Yes  Month-to-month              Yes   \n",
       "4                  Yes  Month-to-month              Yes   \n",
       "5                   No  Month-to-month               No   \n",
       "6                  Yes  Month-to-month              Yes   \n",
       "7  No internet service  Month-to-month               No   \n",
       "8                  Yes  Month-to-month              Yes   \n",
       "9                   No  Month-to-month               No   \n",
       "\n",
       "               PaymentMethod MonthlyCharges  TotalCharges ChurnLabel  \n",
       "0               Mailed check          53.85        108.15        Yes  \n",
       "1           Electronic check          70.70        151.65        Yes  \n",
       "2           Electronic check          99.65         820.5        Yes  \n",
       "3           Electronic check         104.80       3046.05        Yes  \n",
       "4  Bank transfer (automatic)         103.70        5036.3        Yes  \n",
       "5    Credit card (automatic)          55.20        528.35        Yes  \n",
       "6           Electronic check          39.65         39.65        Yes  \n",
       "7               Mailed check          20.15         20.15        Yes  \n",
       "8           Electronic check          99.35       4749.15        Yes  \n",
       "9           Electronic check          30.20          30.2        Yes  \n",
       "\n",
       "[10 rows x 21 columns]"
      ],
      "text/html": "<div>\n<style scoped>\n    .dataframe tbody tr th:only-of-type {\n        vertical-align: middle;\n    }\n\n    .dataframe tbody tr th {\n        vertical-align: top;\n    }\n\n    .dataframe thead th {\n        text-align: right;\n    }\n</style>\n<table border=\"1\" class=\"dataframe\">\n  <thead>\n    <tr style=\"text-align: right;\">\n      <th></th>\n      <th>CustomerID</th>\n      <th>Gender</th>\n      <th>SeniorCitizen</th>\n      <th>Partner</th>\n      <th>Dependents</th>\n      <th>TenureMonths</th>\n      <th>PhoneService</th>\n      <th>MultipleLines</th>\n      <th>InternetService</th>\n      <th>OnlineSecurity</th>\n      <th>...</th>\n      <th>DeviceProtection</th>\n      <th>TechSupport</th>\n      <th>StreamingTV</th>\n      <th>StreamingMovies</th>\n      <th>Contract</th>\n      <th>PaperlessBilling</th>\n      <th>PaymentMethod</th>\n      <th>MonthlyCharges</th>\n      <th>TotalCharges</th>\n      <th>ChurnLabel</th>\n    </tr>\n  </thead>\n  <tbody>\n    <tr>\n      <th>0</th>\n      <td>3668-QPYBK</td>\n      <td>Male</td>\n      <td>No</td>\n      <td>No</td>\n      <td>No</td>\n      <td>2</td>\n      <td>Yes</td>\n      <td>No</td>\n      <td>DSL</td>\n      <td>Yes</td>\n      <td>...</td>\n      <td>No</td>\n      <td>No</td>\n      <td>No</td>\n      <td>No</td>\n      <td>Month-to-month</td>\n      <td>Yes</td>\n      <td>Mailed check</td>\n      <td>53.85</td>\n      <td>108.15</td>\n      <td>Yes</td>\n    </tr>\n    <tr>\n      <th>1</th>\n      <td>9237-HQITU</td>\n      <td>Female</td>\n      <td>No</td>\n      <td>No</td>\n      <td>Yes</td>\n      <td>2</td>\n      <td>Yes</td>\n      <td>No</td>\n      <td>Fiber optic</td>\n      <td>No</td>\n      <td>...</td>\n      <td>No</td>\n      <td>No</td>\n      <td>No</td>\n      <td>No</td>\n      <td>Month-to-month</td>\n      <td>Yes</td>\n      <td>Electronic check</td>\n      <td>70.70</td>\n      <td>151.65</td>\n      <td>Yes</td>\n    </tr>\n    <tr>\n      <th>2</th>\n      <td>9305-CDSKC</td>\n      <td>Female</td>\n      <td>No</td>\n      <td>No</td>\n      <td>Yes</td>\n      <td>8</td>\n      <td>Yes</td>\n      <td>Yes</td>\n      <td>Fiber optic</td>\n      <td>No</td>\n      <td>...</td>\n      <td>Yes</td>\n      <td>No</td>\n      <td>Yes</td>\n      <td>Yes</td>\n      <td>Month-to-month</td>\n      <td>Yes</td>\n      <td>Electronic check</td>\n      <td>99.65</td>\n      <td>820.5</td>\n      <td>Yes</td>\n    </tr>\n    <tr>\n      <th>3</th>\n      <td>7892-POOKP</td>\n      <td>Female</td>\n      <td>No</td>\n      <td>Yes</td>\n      <td>Yes</td>\n      <td>28</td>\n      <td>Yes</td>\n      <td>Yes</td>\n      <td>Fiber optic</td>\n      <td>No</td>\n      <td>...</td>\n      <td>Yes</td>\n      <td>Yes</td>\n      <td>Yes</td>\n      <td>Yes</td>\n      <td>Month-to-month</td>\n      <td>Yes</td>\n      <td>Electronic check</td>\n      <td>104.80</td>\n      <td>3046.05</td>\n      <td>Yes</td>\n    </tr>\n    <tr>\n      <th>4</th>\n      <td>0280-XJGEX</td>\n      <td>Male</td>\n      <td>No</td>\n      <td>No</td>\n      <td>Yes</td>\n      <td>49</td>\n      <td>Yes</td>\n      <td>Yes</td>\n      <td>Fiber optic</td>\n      <td>No</td>\n      <td>...</td>\n      <td>Yes</td>\n      <td>No</td>\n      <td>Yes</td>\n      <td>Yes</td>\n      <td>Month-to-month</td>\n      <td>Yes</td>\n      <td>Bank transfer (automatic)</td>\n      <td>103.70</td>\n      <td>5036.3</td>\n      <td>Yes</td>\n    </tr>\n    <tr>\n      <th>5</th>\n      <td>4190-MFLUW</td>\n      <td>Female</td>\n      <td>No</td>\n      <td>Yes</td>\n      <td>No</td>\n      <td>10</td>\n      <td>Yes</td>\n      <td>No</td>\n      <td>DSL</td>\n      <td>No</td>\n      <td>...</td>\n      <td>Yes</td>\n      <td>Yes</td>\n      <td>No</td>\n      <td>No</td>\n      <td>Month-to-month</td>\n      <td>No</td>\n      <td>Credit card (automatic)</td>\n      <td>55.20</td>\n      <td>528.35</td>\n      <td>Yes</td>\n    </tr>\n    <tr>\n      <th>6</th>\n      <td>8779-QRDMV</td>\n      <td>Male</td>\n      <td>Yes</td>\n      <td>No</td>\n      <td>No</td>\n      <td>1</td>\n      <td>No</td>\n      <td>No phone service</td>\n      <td>DSL</td>\n      <td>No</td>\n      <td>...</td>\n      <td>Yes</td>\n      <td>No</td>\n      <td>No</td>\n      <td>Yes</td>\n      <td>Month-to-month</td>\n      <td>Yes</td>\n      <td>Electronic check</td>\n      <td>39.65</td>\n      <td>39.65</td>\n      <td>Yes</td>\n    </tr>\n    <tr>\n      <th>7</th>\n      <td>1066-JKSGK</td>\n      <td>Male</td>\n      <td>No</td>\n      <td>No</td>\n      <td>No</td>\n      <td>1</td>\n      <td>Yes</td>\n      <td>No</td>\n      <td>No</td>\n      <td>No internet service</td>\n      <td>...</td>\n      <td>No internet service</td>\n      <td>No internet service</td>\n      <td>No internet service</td>\n      <td>No internet service</td>\n      <td>Month-to-month</td>\n      <td>No</td>\n      <td>Mailed check</td>\n      <td>20.15</td>\n      <td>20.15</td>\n      <td>Yes</td>\n    </tr>\n    <tr>\n      <th>8</th>\n      <td>6467-CHFZW</td>\n      <td>Male</td>\n      <td>No</td>\n      <td>Yes</td>\n      <td>Yes</td>\n      <td>47</td>\n      <td>Yes</td>\n      <td>Yes</td>\n      <td>Fiber optic</td>\n      <td>No</td>\n      <td>...</td>\n      <td>No</td>\n      <td>No</td>\n      <td>Yes</td>\n      <td>Yes</td>\n      <td>Month-to-month</td>\n      <td>Yes</td>\n      <td>Electronic check</td>\n      <td>99.35</td>\n      <td>4749.15</td>\n      <td>Yes</td>\n    </tr>\n    <tr>\n      <th>9</th>\n      <td>8665-UTDHZ</td>\n      <td>Male</td>\n      <td>No</td>\n      <td>Yes</td>\n      <td>No</td>\n      <td>1</td>\n      <td>No</td>\n      <td>No phone service</td>\n      <td>DSL</td>\n      <td>No</td>\n      <td>...</td>\n      <td>No</td>\n      <td>No</td>\n      <td>No</td>\n      <td>No</td>\n      <td>Month-to-month</td>\n      <td>No</td>\n      <td>Electronic check</td>\n      <td>30.20</td>\n      <td>30.2</td>\n      <td>Yes</td>\n    </tr>\n  </tbody>\n</table>\n<p>10 rows × 21 columns</p>\n</div>"
     },
     "metadata": {},
     "execution_count": 30
    }
   ],
   "source": [
    "data.head(10)"
   ]
  },
  {
   "source": [
    "TASK: Display first few values of the dataframe\n",
    "Based on this and the previous display, how would you describe the columns with a small number (less than 10) of unique values?\n",
    "\n",
    "Based from above, we can say that all the customers are in the same country and state. Most of the columns are categorical like <code>Gender</code> with *Male* or *Female* values, <code>SeniorCitizen</code> with *Yes* or *No* values, <code>ChurnLabel</code> with Yes or No with equivalent <code>ChrunValue</code> of 1 or 0 respectively, etc. It can be observed that there are columns with many different unique values such as the <code>CustomerID</code> which makes sense as each customer should have its own unique id. <code>ZipCode</code>, <code>Latitude</code> and <code>Longitude</code> which have the same number of possible values make sense as the state has the limited number of zip codes.\n",
    "\n",
    "We have also observed that there are continuous values in the columns: <code>TotalCharges</code> and <code>MothlyCharges</code> and discrete values in the column <code>TenureMonths</code> which indicates the number of months that the customer use the Telco service."
   ],
   "cell_type": "markdown",
   "metadata": {}
  },
  {
   "cell_type": "code",
   "execution_count": 31,
   "metadata": {},
   "outputs": [
    {
     "output_type": "stream",
     "name": "stdout",
     "text": [
      "Gender\t2\nSeniorCitizen\t2\nPartner\t2\nDependents\t2\nPhoneService\t2\nMultipleLines\t3\nInternetService\t3\nOnlineSecurity\t3\nOnlineBackup\t3\nDeviceProtection\t3\nTechSupport\t3\nStreamingTV\t3\nStreamingMovies\t3\nContract\t3\nPaperlessBilling\t2\nPaymentMethod\t4\nChurnLabel\t2\n"
     ]
    }
   ],
   "source": [
    "# TASK: Let's analyze the values for the categorical features (columns with less than 10 unique values)\n",
    "for id, row in data.nunique().iteritems(): # this counts the number of unique values for each feature and returns the result as a dictionary\n",
    "    if(row < 10):\n",
    "        # TASK: Print out the unique values for the feature\n",
    "        print(\"{}\\t{}\".format(id, row))"
   ]
  },
  {
   "cell_type": "code",
   "execution_count": 32,
   "metadata": {},
   "outputs": [
    {
     "output_type": "stream",
     "name": "stdout",
     "text": [
      "MultipleLines : ['No' 'No phone service' 'Yes']\nInternetService : ['DSL' 'Fiber optic' 'No']\nOnlineSecurity : ['No' 'No internet service' 'Yes']\nOnlineBackup : ['No' 'No internet service' 'Yes']\nDeviceProtection : ['No' 'No internet service' 'Yes']\nTechSupport : ['No' 'No internet service' 'Yes']\nStreamingTV : ['No' 'No internet service' 'Yes']\nStreamingMovies : ['No' 'No internet service' 'Yes']\nContract : ['Month-to-month' 'One year' 'Two year']\nPaymentMethod : ['Bank transfer (automatic)' 'Credit card (automatic)' 'Electronic check'\n 'Mailed check']\n"
     ]
    }
   ],
   "source": [
    "# For columns with 3 or 4 unique values, display them to see if they make sense\n",
    "for col in ['MultipleLines', 'InternetService', 'OnlineSecurity', 'OnlineBackup', 'DeviceProtection', 'TechSupport', 'StreamingTV', 'StreamingMovies', 'Contract', \"PaymentMethod\"]:\n",
    "    print(\"{} : {}\".format(col, np.unique(data[col].values)))"
   ]
  },
  {
   "cell_type": "markdown",
   "metadata": {},
   "source": [
    "**Observations**\n",
    "\n",
    "- The value 'No phone service' found in MultipleLines is already captured by the PhoneService feature ('No' value)\n",
    "- The value 'No internet service' found in the several features is already captured by InternetService feature ('No' value)\n",
    "- Values that are longer or more complex may need to be simplified.\n",
    "\n",
    "Conclusion: These values can be considered duplicated information as they are found in the PhoneService and InternetService features. There are several options to consider here:\n",
    "\n",
    "- Retain all features and values as is\n",
    "- Convert the 'No Internet Service'/'No phone service' to 'No' in the features as PhoneService and InternetService features has already captured this information\n",
    "- Remove the PhoneService feature as MultipleLines feature has this information. To remove the InternetService feature, we would have to 'fold in' the values in the other features e.g. the values for OnlineSecurity could be changed to ['DSL_No','DSL_Yes','FiberOptic_No','FiberOptic_Yes','No internet service']\n",
    "\n",
    "For this course, we will be using the second option (without justification). You are encouraged to test the others options during modelling to see if there are any impact."
   ]
  },
  {
   "cell_type": "markdown",
   "metadata": {},
   "source": [
    "### Data Wrangling\n",
    "\n",
    "Based on the discoveries made above, we will be modifying our data before continuing the exploration."
   ]
  },
  {
   "cell_type": "code",
   "execution_count": 34,
   "metadata": {},
   "outputs": [],
   "source": [
    "# Replace 'No phone service'\n",
    "data['MultipleLines'] = data['MultipleLines'].replace({'No phone service':'No'})"
   ]
  },
  {
   "cell_type": "code",
   "execution_count": 35,
   "metadata": {},
   "outputs": [],
   "source": [
    "# TASK: Replace 'No internet service'\n",
    "for col in ['OnlineSecurity', 'OnlineBackup', 'DeviceProtection', 'TechSupport', 'StreamingTV', 'StreamingMovies']:\n",
    "    # similar to the operation for 'No phone service' above\n",
    "    data[col] = data[col].replace({'No internet service':'No'})"
   ]
  },
  {
   "cell_type": "code",
   "execution_count": 36,
   "metadata": {},
   "outputs": [],
   "source": [
    "# Simplify the values made up of phrases\n",
    "data['PaymentMethod'] = data['PaymentMethod'].replace({\n",
    "    'Bank transfer (automatic)':'transfer',\n",
    "    'Credit card (automatic)':'creditcard',\n",
    "    'Electronic check':'echeck',\n",
    "    'Mailed check':'mcheck'\n",
    "})\n",
    "\n",
    "data['InternetService'] = data['InternetService'].replace({\n",
    "    'Fiber optic':'FiberOptic'\n",
    "})\n",
    "\n",
    "data['Contract'] = data['Contract'].replace({\n",
    "    'Month-to-month':'M2M',\n",
    "    'One year':'OneYear',\n",
    "    'Two year':'TwoYear'\n",
    "})"
   ]
  },
  {
   "cell_type": "code",
   "execution_count": 37,
   "metadata": {},
   "outputs": [],
   "source": [
    "# Remove the rows with empty TotalCharges value\n",
    "data = data[data[\"TotalCharges\"].notnull()]"
   ]
  },
  {
   "cell_type": "code",
   "execution_count": 38,
   "metadata": {},
   "outputs": [
    {
     "output_type": "execute_result",
     "data": {
      "text/plain": [
       "(7043, 21)"
      ]
     },
     "metadata": {},
     "execution_count": 38
    }
   ],
   "source": [
    "data.shape"
   ]
  },
  {
   "cell_type": "code",
   "execution_count": 39,
   "metadata": {},
   "outputs": [
    {
     "output_type": "stream",
     "name": "stdout",
     "text": [
      "<class 'pandas.core.frame.DataFrame'>\nInt64Index: 7043 entries, 0 to 7042\nData columns (total 21 columns):\n #   Column            Non-Null Count  Dtype  \n---  ------            --------------  -----  \n 0   CustomerID        7043 non-null   object \n 1   Gender            7043 non-null   object \n 2   SeniorCitizen     7043 non-null   object \n 3   Partner           7043 non-null   object \n 4   Dependents        7043 non-null   object \n 5   TenureMonths      7043 non-null   int64  \n 6   PhoneService      7043 non-null   object \n 7   MultipleLines     7043 non-null   object \n 8   InternetService   7043 non-null   object \n 9   OnlineSecurity    7043 non-null   object \n 10  OnlineBackup      7043 non-null   object \n 11  DeviceProtection  7043 non-null   object \n 12  TechSupport       7043 non-null   object \n 13  StreamingTV       7043 non-null   object \n 14  StreamingMovies   7043 non-null   object \n 15  Contract          7043 non-null   object \n 16  PaperlessBilling  7043 non-null   object \n 17  PaymentMethod     7043 non-null   object \n 18  MonthlyCharges    7043 non-null   float64\n 19  TotalCharges      7043 non-null   object \n 20  ChurnLabel        7043 non-null   object \ndtypes: float64(1), int64(1), object(19)\nmemory usage: 1.2+ MB\n"
     ]
    }
   ],
   "source": [
    "data.info()\n",
    "# we can see that the TotalCharges column is of object data type, we must change it into float "
   ]
  },
  {
   "cell_type": "code",
   "execution_count": 40,
   "metadata": {},
   "outputs": [
    {
     "output_type": "stream",
     "name": "stdout",
     "text": [
      "Rows & Columns: (7043, 21)\n################################################\nCustomerID          7043\nGender                 2\nSeniorCitizen          2\nPartner                2\nDependents             2\nTenureMonths          73\nPhoneService           2\nMultipleLines          2\nInternetService        3\nOnlineSecurity         2\nOnlineBackup           2\nDeviceProtection       2\nTechSupport            2\nStreamingTV            2\nStreamingMovies        2\nContract               3\nPaperlessBilling       2\nPaymentMethod          4\nMonthlyCharges      1585\nTotalCharges        6531\nChurnLabel             2\ndtype: int64\n################################################\nCustomerID           object\nGender               object\nSeniorCitizen        object\nPartner              object\nDependents           object\nTenureMonths          int64\nPhoneService         object\nMultipleLines        object\nInternetService      object\nOnlineSecurity       object\nOnlineBackup         object\nDeviceProtection     object\nTechSupport          object\nStreamingTV          object\nStreamingMovies      object\nContract             object\nPaperlessBilling     object\nPaymentMethod        object\nMonthlyCharges      float64\nTotalCharges         object\nChurnLabel           object\ndtype: object\n################################################\n   CustomerID  Gender SeniorCitizen Partner Dependents  TenureMonths  \\\n0  3668-QPYBK    Male            No      No         No             2   \n1  9237-HQITU  Female            No      No        Yes             2   \n2  9305-CDSKC  Female            No      No        Yes             8   \n3  7892-POOKP  Female            No     Yes        Yes            28   \n4  0280-XJGEX    Male            No      No        Yes            49   \n\n  PhoneService MultipleLines InternetService OnlineSecurity  ...  \\\n0          Yes            No             DSL            Yes  ...   \n1          Yes            No      FiberOptic             No  ...   \n2          Yes           Yes      FiberOptic             No  ...   \n3          Yes           Yes      FiberOptic             No  ...   \n4          Yes           Yes      FiberOptic             No  ...   \n\n  DeviceProtection TechSupport StreamingTV StreamingMovies Contract  \\\n0               No          No          No              No      M2M   \n1               No          No          No              No      M2M   \n2              Yes          No         Yes             Yes      M2M   \n3              Yes         Yes         Yes             Yes      M2M   \n4              Yes          No         Yes             Yes      M2M   \n\n  PaperlessBilling PaymentMethod MonthlyCharges  TotalCharges ChurnLabel  \n0              Yes        mcheck          53.85        108.15        Yes  \n1              Yes        echeck          70.70        151.65        Yes  \n2              Yes        echeck          99.65         820.5        Yes  \n3              Yes        echeck         104.80       3046.05        Yes  \n4              Yes      transfer         103.70        5036.3        Yes  \n\n[5 rows x 21 columns]\n"
     ]
    }
   ],
   "source": [
    "# After data wrangling, repeat prints\n",
    "print(\"Rows & Columns: {}\".format(data.shape))\n",
    "print(\"################################################\")\n",
    "# Number of unique values for each of the columns\n",
    "print(data.nunique())\n",
    "print(\"################################################\")\n",
    "# Check the data types\n",
    "print(data.dtypes)\n",
    "print(\"################################################\")\n",
    "# Display first few values\n",
    "print(data.head())"
   ]
  },
  {
   "cell_type": "code",
   "execution_count": 41,
   "metadata": {},
   "outputs": [
    {
     "output_type": "stream",
     "name": "stdout",
     "text": [
      "CustomerID          1169-WCVAK\nGender                    Male\nSeniorCitizen               No\nPartner                    Yes\nDependents                  No\nTenureMonths                19\nPhoneService               Yes\nMultipleLines              Yes\nInternetService     FiberOptic\nOnlineSecurity             Yes\nOnlineBackup               Yes\nDeviceProtection            No\nTechSupport                Yes\nStreamingTV                 No\nStreamingMovies             No\nContract                   M2M\nPaperlessBilling           Yes\nPaymentMethod       creditcard\nMonthlyCharges            88.8\nTotalCharges           1672.35\nChurnLabel                  No\nName: 6137, dtype: object\n"
     ]
    }
   ],
   "source": [
    "# Randomly display 1 row from the dataframe\n",
    "print(data.sample(n=1).iloc[0])"
   ]
  },
  {
   "cell_type": "code",
   "execution_count": 42,
   "metadata": {},
   "outputs": [],
   "source": [
    "# TASK: Save the data as a CSV fiile\n",
    "data.to_csv(\"../../data/interim/0telco_churn.csv\", index=False)"
   ]
  },
  {
   "cell_type": "markdown",
   "metadata": {},
   "source": [
    "### Additional Exploration\n",
    "\n",
    "**TASK:** This is the open-ended section of the exercise. Use any exploration techniques that you know to further explore and understand your data. We expect a number of visualizations that can show the relationships between features as well as between features and the outcome variable 'ChurnLabel'. Some of the questions in the quiz may require you to perform additional analyses."
   ]
  },
  {
   "source": [
    "\n",
    "From the initial exploration above, the following questions have been answered:\n",
    "* What is the shape of your data? Number of rows and columns.\n",
    "* How many of the columns are numerical and how many are categorical?\n",
    "* What is the name of the column to be predicted?\n",
    "* For the numerical columns, how many missing values are there for each column?\n",
    "* For the categorical columns, how many missing values are there for each column?\n",
    "\n",
    "However, we will still need to do further exploration using visualizations to better understand the data using the following questions as the goal:\n",
    "* For the numerical columns, what does the distributions look like?\n",
    "* How are the various attributes correlated to the outcome variable?\n",
    "* What visualizations can you use to highlight outliers in the data?\n"
   ],
   "cell_type": "markdown",
   "metadata": {}
  },
  {
   "source": [
    "**Recapping on the columns**\n",
    "\n",
    "Before we begin to decide on the type of visualisations to use to aim our understanding, let's recap on the columns we have and the data type of it."
   ],
   "cell_type": "markdown",
   "metadata": {}
  },
  {
   "cell_type": "code",
   "execution_count": 43,
   "metadata": {},
   "outputs": [
    {
     "output_type": "stream",
     "name": "stdout",
     "text": [
      "Categorical columns: Index(['CustomerID', 'Gender', 'SeniorCitizen', 'Partner', 'Dependents',\n       'PhoneService', 'MultipleLines', 'InternetService', 'OnlineSecurity',\n       'OnlineBackup', 'DeviceProtection', 'TechSupport', 'StreamingTV',\n       'StreamingMovies', 'Contract', 'PaperlessBilling', 'PaymentMethod',\n       'TotalCharges', 'ChurnLabel'],\n      dtype='object')\n\nNumerical columns: Index(['TenureMonths', 'MonthlyCharges'], dtype='object')\n\nTotal columns: 19 categorical, 2 numerical.\n"
     ]
    }
   ],
   "source": [
    "print(\"Categorical columns: {}\\n\".format(obj_cols))\n",
    "print(\"Numerical columns: {}\\n\".format(num_cols))\n",
    "print(\"Total columns: {} categorical, {} numerical.\".format(len(obj_cols), len(num_cols)))"
   ]
  },
  {
   "source": [
    "**Utilities Functions**\n",
    "\n",
    "Let's define some helper functions that will help us iterate through all the columns with same datatype."
   ],
   "cell_type": "markdown",
   "metadata": {}
  },
  {
   "cell_type": "code",
   "execution_count": 44,
   "metadata": {},
   "outputs": [
    {
     "output_type": "stream",
     "name": "stderr",
     "text": [
      "findfont: Font family ['helvetica'] not found. Falling back to DejaVu Sans.\n",
      "findfont: Font family ['helvetica'] not found. Falling back to DejaVu Sans.\n",
      "findfont: Font family ['helvetica'] not found. Falling back to DejaVu Sans.\n",
      "findfont: Font family ['helvetica'] not found. Falling back to DejaVu Sans.\n",
      "findfont: Font family ['helvetica'] not found. Falling back to DejaVu Sans.\n"
     ]
    },
    {
     "output_type": "display_data",
     "data": {
      "text/plain": "<Figure size 460.8x316.8 with 1 Axes>",
      "image/svg+xml": "<?xml version=\"1.0\" encoding=\"utf-8\" standalone=\"no\"?>\r\n<!DOCTYPE svg PUBLIC \"-//W3C//DTD SVG 1.1//EN\"\r\n  \"http://www.w3.org/Graphics/SVG/1.1/DTD/svg11.dtd\">\r\n<!-- Created with matplotlib (https://matplotlib.org/) -->\r\n<svg height=\"283.721pt\" version=\"1.1\" viewBox=\"0 0 423.13454 283.721\" width=\"423.13454pt\" xmlns=\"http://www.w3.org/2000/svg\" xmlns:xlink=\"http://www.w3.org/1999/xlink\">\r\n <metadata>\r\n  <rdf:RDF xmlns:cc=\"http://creativecommons.org/ns#\" xmlns:dc=\"http://purl.org/dc/elements/1.1/\" xmlns:rdf=\"http://www.w3.org/1999/02/22-rdf-syntax-ns#\">\r\n   <cc:Work>\r\n    <dc:type rdf:resource=\"http://purl.org/dc/dcmitype/StillImage\"/>\r\n    <dc:date>2021-07-02T22:45:31.335934</dc:date>\r\n    <dc:format>image/svg+xml</dc:format>\r\n    <dc:creator>\r\n     <cc:Agent>\r\n      <dc:title>Matplotlib v3.3.4, https://matplotlib.org/</dc:title>\r\n     </cc:Agent>\r\n    </dc:creator>\r\n   </cc:Work>\r\n  </rdf:RDF>\r\n </metadata>\r\n <defs>\r\n  <style type=\"text/css\">*{stroke-linecap:butt;stroke-linejoin:round;}</style>\r\n </defs>\r\n <g id=\"figure_1\">\r\n  <g id=\"patch_1\">\r\n   <path d=\"M 0 283.721 \r\nL 423.13454 283.721 \r\nL 423.13454 0 \r\nL 0 0 \r\nz\r\n\" style=\"fill:none;\"/>\r\n  </g>\r\n  <g id=\"axes_1\">\r\n   <g id=\"patch_2\">\r\n    <path d=\"M 56.80925 259.6785 \r\nL 413.92925 259.6785 \r\nL 413.92925 20.4945 \r\nL 56.80925 20.4945 \r\nz\r\n\" style=\"fill:#ffffff;\"/>\r\n   </g>\r\n   <g id=\"PolyCollection_1\">\r\n    <defs>\r\n     <path d=\"M 75.615317 -24.349372 \r\nL 75.615317 -24.0425 \r\nL 77.223315 -24.0425 \r\nL 78.831313 -24.0425 \r\nL 80.439311 -24.0425 \r\nL 82.047308 -24.0425 \r\nL 83.655306 -24.0425 \r\nL 85.263304 -24.0425 \r\nL 86.871302 -24.0425 \r\nL 88.4793 -24.0425 \r\nL 90.087298 -24.0425 \r\nL 91.695296 -24.0425 \r\nL 93.303294 -24.0425 \r\nL 94.911292 -24.0425 \r\nL 96.51929 -24.0425 \r\nL 98.127288 -24.0425 \r\nL 99.735286 -24.0425 \r\nL 101.343284 -24.0425 \r\nL 102.951282 -24.0425 \r\nL 104.559279 -24.0425 \r\nL 106.167277 -24.0425 \r\nL 107.775275 -24.0425 \r\nL 109.383273 -24.0425 \r\nL 110.991271 -24.0425 \r\nL 112.599269 -24.0425 \r\nL 114.207267 -24.0425 \r\nL 115.815265 -24.0425 \r\nL 117.423263 -24.0425 \r\nL 119.031261 -24.0425 \r\nL 120.639259 -24.0425 \r\nL 122.247257 -24.0425 \r\nL 123.855255 -24.0425 \r\nL 125.463252 -24.0425 \r\nL 127.07125 -24.0425 \r\nL 128.679248 -24.0425 \r\nL 130.287246 -24.0425 \r\nL 131.895244 -24.0425 \r\nL 133.503242 -24.0425 \r\nL 135.11124 -24.0425 \r\nL 136.719238 -24.0425 \r\nL 138.327236 -24.0425 \r\nL 139.935234 -24.0425 \r\nL 141.543232 -24.0425 \r\nL 143.15123 -24.0425 \r\nL 144.759228 -24.0425 \r\nL 146.367226 -24.0425 \r\nL 147.975223 -24.0425 \r\nL 149.583221 -24.0425 \r\nL 151.191219 -24.0425 \r\nL 152.799217 -24.0425 \r\nL 154.407215 -24.0425 \r\nL 156.015213 -24.0425 \r\nL 157.623211 -24.0425 \r\nL 159.231209 -24.0425 \r\nL 160.839207 -24.0425 \r\nL 162.447205 -24.0425 \r\nL 164.055203 -24.0425 \r\nL 165.663201 -24.0425 \r\nL 167.271199 -24.0425 \r\nL 168.879197 -24.0425 \r\nL 170.487194 -24.0425 \r\nL 172.095192 -24.0425 \r\nL 173.70319 -24.0425 \r\nL 175.311188 -24.0425 \r\nL 176.919186 -24.0425 \r\nL 178.527184 -24.0425 \r\nL 180.135182 -24.0425 \r\nL 181.74318 -24.0425 \r\nL 183.351178 -24.0425 \r\nL 184.959176 -24.0425 \r\nL 186.567174 -24.0425 \r\nL 188.175172 -24.0425 \r\nL 189.78317 -24.0425 \r\nL 191.391168 -24.0425 \r\nL 192.999165 -24.0425 \r\nL 194.607163 -24.0425 \r\nL 196.215161 -24.0425 \r\nL 197.823159 -24.0425 \r\nL 199.431157 -24.0425 \r\nL 201.039155 -24.0425 \r\nL 202.647153 -24.0425 \r\nL 204.255151 -24.0425 \r\nL 205.863149 -24.0425 \r\nL 207.471147 -24.0425 \r\nL 209.079145 -24.0425 \r\nL 210.687143 -24.0425 \r\nL 212.295141 -24.0425 \r\nL 213.903139 -24.0425 \r\nL 215.511136 -24.0425 \r\nL 217.119134 -24.0425 \r\nL 218.727132 -24.0425 \r\nL 220.33513 -24.0425 \r\nL 221.943128 -24.0425 \r\nL 223.551126 -24.0425 \r\nL 225.159124 -24.0425 \r\nL 226.767122 -24.0425 \r\nL 228.37512 -24.0425 \r\nL 229.983118 -24.0425 \r\nL 231.591116 -24.0425 \r\nL 233.199114 -24.0425 \r\nL 234.807112 -24.0425 \r\nL 236.41511 -24.0425 \r\nL 238.023107 -24.0425 \r\nL 239.631105 -24.0425 \r\nL 241.239103 -24.0425 \r\nL 242.847101 -24.0425 \r\nL 244.455099 -24.0425 \r\nL 246.063097 -24.0425 \r\nL 247.671095 -24.0425 \r\nL 249.279093 -24.0425 \r\nL 250.887091 -24.0425 \r\nL 252.495089 -24.0425 \r\nL 254.103087 -24.0425 \r\nL 255.711085 -24.0425 \r\nL 257.319083 -24.0425 \r\nL 258.92708 -24.0425 \r\nL 260.535078 -24.0425 \r\nL 262.143076 -24.0425 \r\nL 263.751074 -24.0425 \r\nL 265.359072 -24.0425 \r\nL 266.96707 -24.0425 \r\nL 268.575068 -24.0425 \r\nL 270.183066 -24.0425 \r\nL 271.791064 -24.0425 \r\nL 273.399062 -24.0425 \r\nL 275.00706 -24.0425 \r\nL 276.615058 -24.0425 \r\nL 278.223056 -24.0425 \r\nL 279.831054 -24.0425 \r\nL 281.439051 -24.0425 \r\nL 283.047049 -24.0425 \r\nL 284.655047 -24.0425 \r\nL 286.263045 -24.0425 \r\nL 287.871043 -24.0425 \r\nL 289.479041 -24.0425 \r\nL 291.087039 -24.0425 \r\nL 292.695037 -24.0425 \r\nL 294.303035 -24.0425 \r\nL 295.911033 -24.0425 \r\nL 297.519031 -24.0425 \r\nL 299.127029 -24.0425 \r\nL 300.735027 -24.0425 \r\nL 302.343025 -24.0425 \r\nL 303.951022 -24.0425 \r\nL 305.55902 -24.0425 \r\nL 307.167018 -24.0425 \r\nL 308.775016 -24.0425 \r\nL 310.383014 -24.0425 \r\nL 311.991012 -24.0425 \r\nL 313.59901 -24.0425 \r\nL 315.207008 -24.0425 \r\nL 316.815006 -24.0425 \r\nL 318.423004 -24.0425 \r\nL 320.031002 -24.0425 \r\nL 321.639 -24.0425 \r\nL 323.246998 -24.0425 \r\nL 324.854996 -24.0425 \r\nL 326.462993 -24.0425 \r\nL 328.070991 -24.0425 \r\nL 329.678989 -24.0425 \r\nL 331.286987 -24.0425 \r\nL 332.894985 -24.0425 \r\nL 334.502983 -24.0425 \r\nL 336.110981 -24.0425 \r\nL 337.718979 -24.0425 \r\nL 339.326977 -24.0425 \r\nL 340.934975 -24.0425 \r\nL 342.542973 -24.0425 \r\nL 344.150971 -24.0425 \r\nL 345.758969 -24.0425 \r\nL 347.366967 -24.0425 \r\nL 348.974964 -24.0425 \r\nL 350.582962 -24.0425 \r\nL 352.19096 -24.0425 \r\nL 353.798958 -24.0425 \r\nL 355.406956 -24.0425 \r\nL 357.014954 -24.0425 \r\nL 358.622952 -24.0425 \r\nL 360.23095 -24.0425 \r\nL 361.838948 -24.0425 \r\nL 363.446946 -24.0425 \r\nL 365.054944 -24.0425 \r\nL 366.662942 -24.0425 \r\nL 368.27094 -24.0425 \r\nL 369.878938 -24.0425 \r\nL 371.486935 -24.0425 \r\nL 373.094933 -24.0425 \r\nL 374.702931 -24.0425 \r\nL 376.310929 -24.0425 \r\nL 377.918927 -24.0425 \r\nL 379.526925 -24.0425 \r\nL 381.134923 -24.0425 \r\nL 382.742921 -24.0425 \r\nL 384.350919 -24.0425 \r\nL 385.958917 -24.0425 \r\nL 387.566915 -24.0425 \r\nL 389.174913 -24.0425 \r\nL 390.782911 -24.0425 \r\nL 392.390908 -24.0425 \r\nL 393.998906 -24.0425 \r\nL 395.606904 -24.0425 \r\nL 395.606904 -24.061091 \r\nL 395.606904 -24.061091 \r\nL 393.998906 -24.070053 \r\nL 392.390908 -24.082822 \r\nL 390.782911 -24.100781 \r\nL 389.174913 -24.125713 \r\nL 387.566915 -24.159895 \r\nL 385.958917 -24.206181 \r\nL 384.350919 -24.268107 \r\nL 382.742921 -24.349994 \r\nL 381.134923 -24.457052 \r\nL 379.526925 -24.595493 \r\nL 377.918927 -24.77264 \r\nL 376.310929 -24.997037 \r\nL 374.702931 -25.278562 \r\nL 373.094933 -25.628536 \r\nL 371.486935 -26.059842 \r\nL 369.878938 -26.587036 \r\nL 368.27094 -27.226457 \r\nL 366.662942 -27.996335 \r\nL 365.054944 -28.916868 \r\nL 363.446946 -30.010283 \r\nL 361.838948 -31.300827 \r\nL 360.23095 -32.814693 \r\nL 358.622952 -34.579836 \r\nL 357.014954 -36.62566 \r\nL 355.406956 -38.982544 \r\nL 353.798958 -41.681184 \r\nL 352.19096 -44.75175 \r\nL 350.582962 -48.222845 \r\nL 348.974964 -52.120292 \r\nL 347.366967 -56.465792 \r\nL 345.758969 -61.275487 \r\nL 344.150971 -66.558531 \r\nL 342.542973 -72.315729 \r\nL 340.934975 -78.538363 \r\nL 339.326977 -85.207284 \r\nL 337.718979 -92.292365 \r\nL 336.110981 -99.75239 \r\nL 334.502983 -107.535414 \r\nL 332.894985 -115.579615 \r\nL 331.286987 -123.814612 \r\nL 329.678989 -132.1632 \r\nL 328.070991 -140.543411 \r\nL 326.462993 -148.87081 \r\nL 324.854996 -157.060886 \r\nL 323.246998 -165.031447 \r\nL 321.639 -172.7049 \r\nL 320.031002 -180.010317 \r\nL 318.423004 -186.885251 \r\nL 316.815006 -193.277221 \r\nL 315.207008 -199.144888 \r\nL 313.59901 -204.458886 \r\nL 311.991012 -209.202332 \r\nL 310.383014 -213.371023 \r\nL 308.775016 -216.973325 \r\nL 307.167018 -220.029745 \r\nL 305.55902 -222.572197 \r\nL 303.951022 -224.64293 \r\nL 302.343025 -226.293123 \r\nL 300.735027 -227.581152 \r\nL 299.127029 -228.570551 \r\nL 297.519031 -229.327717 \r\nL 295.911033 -229.91945 \r\nL 294.303035 -230.410437 \r\nL 292.695037 -230.860815 \r\nL 291.087039 -231.323954 \r\nL 289.479041 -231.844604 \r\nL 287.871043 -232.45752 \r\nL 286.263045 -233.186641 \r\nL 284.655047 -234.044856 \r\nL 283.047049 -235.034331 \r\nL 281.439051 -236.147322 \r\nL 279.831054 -237.367354 \r\nL 278.223056 -238.670619 \r\nL 276.615058 -240.027439 \r\nL 275.00706 -241.403637 \r\nL 273.399062 -242.761706 \r\nL 271.791064 -244.061677 \r\nL 270.183066 -245.261664 \r\nL 268.575068 -246.318077 \r\nL 266.96707 -247.185579 \r\nL 265.359072 -247.816865 \r\nL 263.751074 -248.162395 \r\nL 262.143076 -248.170206 \r\nL 260.535078 -247.785966 \r\nL 258.92708 -246.953379 \r\nL 257.319083 -245.615081 \r\nL 255.711085 -243.71409 \r\nL 254.103087 -241.195854 \r\nL 252.495089 -238.010883 \r\nL 250.887091 -234.117866 \r\nL 249.279093 -229.48714 \r\nL 247.671095 -224.104266 \r\nL 246.063097 -217.973466 \r\nL 244.455099 -211.120571 \r\nL 242.847101 -203.595187 \r\nL 241.239103 -195.471762 \r\nL 239.631105 -186.849312 \r\nL 238.023107 -177.849669 \r\nL 236.41511 -168.614205 \r\nL 234.807112 -159.299166 \r\nL 233.199114 -150.069825 \r\nL 231.591116 -141.093839 \r\nL 229.983118 -132.534234 \r\nL 228.37512 -124.542521 \r\nL 226.767122 -117.252396 \r\nL 225.159124 -110.774477 \r\nL 223.551126 -105.192387 \r\nL 221.943128 -100.560391 \r\nL 220.33513 -96.902666 \r\nL 218.727132 -94.214121 \r\nL 217.119134 -92.462601 \r\nL 215.511136 -91.592181 \r\nL 213.903139 -91.527236 \r\nL 212.295141 -92.176937 \r\nL 210.687143 -93.439814 \r\nL 209.079145 -95.208121 \r\nL 207.471147 -97.371734 \r\nL 205.863149 -99.821452 \r\nL 204.255151 -102.451582 \r\nL 202.647153 -105.161823 \r\nL 201.039155 -107.858498 \r\nL 199.431157 -110.455242 \r\nL 197.823159 -112.87329 \r\nL 196.215161 -115.041557 \r\nL 194.607163 -116.896649 \r\nL 192.999165 -118.38297 \r\nL 191.391168 -119.453033 \r\nL 189.78317 -120.068029 \r\nL 188.175172 -120.198653 \r\nL 186.567174 -119.826123 \r\nL 184.959176 -118.943267 \r\nL 183.351178 -117.555521 \r\nL 181.74318 -115.681653 \r\nL 180.135182 -113.354027 \r\nL 178.527184 -110.618271 \r\nL 176.919186 -107.532245 \r\nL 175.311188 -104.164286 \r\nL 173.70319 -100.590793 \r\nL 172.095192 -96.893282 \r\nL 170.487194 -93.15512 \r\nL 168.879197 -89.458171 \r\nL 167.271199 -85.879635 \r\nL 165.663201 -82.489304 \r\nL 164.055203 -79.347465 \r\nL 162.447205 -76.503555 \r\nL 160.839207 -73.995648 \r\nL 159.231209 -71.850723 \r\nL 157.623211 -70.08561 \r\nL 156.015213 -68.708428 \r\nL 154.407215 -67.720288 \r\nL 152.799217 -67.117029 \r\nL 151.191219 -66.890757 \r\nL 149.583221 -67.030967 \r\nL 147.975223 -67.525133 \r\nL 146.367226 -68.358667 \r\nL 144.759228 -69.514261 \r\nL 143.15123 -70.970675 \r\nL 141.543232 -72.701148 \r\nL 139.935234 -74.671612 \r\nL 138.327236 -76.83899 \r\nL 136.719238 -79.149849 \r\nL 135.11124 -81.539677 \r\nL 133.503242 -83.933025 \r\nL 131.895244 -86.244696 \r\nL 130.287246 -88.382057 \r\nL 128.679248 -90.248454 \r\nL 127.07125 -91.747583 \r\nL 125.463252 -92.788544 \r\nL 123.855255 -93.291214 \r\nL 122.247257 -93.191477 \r\nL 120.639259 -92.445858 \r\nL 119.031261 -91.035083 \r\nL 117.423263 -88.966207 \r\nL 115.815265 -86.273029 \r\nL 114.207267 -83.014709 \r\nL 112.599269 -79.272659 \r\nL 110.991271 -75.145936 \r\nL 109.383273 -70.745541 \r\nL 107.775275 -66.188099 \r\nL 106.167277 -61.589453 \r\nL 104.559279 -57.058701 \r\nL 102.951282 -52.693094 \r\nL 101.343284 -48.57417 \r\nL 99.735286 -44.765271 \r\nL 98.127288 -41.310527 \r\nL 96.51929 -38.235182 \r\nL 94.911292 -35.547087 \r\nL 93.303294 -33.239048 \r\nL 91.695296 -31.291738 \r\nL 90.087298 -29.676848 \r\nL 88.4793 -28.360194 \r\nL 86.871302 -27.304569 \r\nL 85.263304 -26.472162 \r\nL 83.655306 -25.826484 \r\nL 82.047308 -25.333753 \r\nL 80.439311 -24.963779 \r\nL 78.831313 -24.690413 \r\nL 77.223315 -24.491634 \r\nL 75.615317 -24.349372 \r\nz\r\n\" id=\"md5cb67a69b\" style=\"stroke:#1f77b4;stroke-width:3;\"/>\r\n    </defs>\r\n    <g clip-path=\"url(#pd553112c24)\">\r\n     <use style=\"fill:#1f77b4;fill-opacity:0.25;stroke:#1f77b4;stroke-width:3;\" x=\"0\" xlink:href=\"#md5cb67a69b\" y=\"283.721\"/>\r\n    </g>\r\n   </g>\r\n   <g id=\"PolyCollection_2\">\r\n    <defs>\r\n     <path d=\"M 73.041977 -24.851225 \r\nL 73.041977 -24.0425 \r\nL 74.673407 -24.0425 \r\nL 76.304837 -24.0425 \r\nL 77.936267 -24.0425 \r\nL 79.567697 -24.0425 \r\nL 81.199127 -24.0425 \r\nL 82.830557 -24.0425 \r\nL 84.461986 -24.0425 \r\nL 86.093416 -24.0425 \r\nL 87.724846 -24.0425 \r\nL 89.356276 -24.0425 \r\nL 90.987706 -24.0425 \r\nL 92.619136 -24.0425 \r\nL 94.250566 -24.0425 \r\nL 95.881996 -24.0425 \r\nL 97.513425 -24.0425 \r\nL 99.144855 -24.0425 \r\nL 100.776285 -24.0425 \r\nL 102.407715 -24.0425 \r\nL 104.039145 -24.0425 \r\nL 105.670575 -24.0425 \r\nL 107.302005 -24.0425 \r\nL 108.933435 -24.0425 \r\nL 110.564864 -24.0425 \r\nL 112.196294 -24.0425 \r\nL 113.827724 -24.0425 \r\nL 115.459154 -24.0425 \r\nL 117.090584 -24.0425 \r\nL 118.722014 -24.0425 \r\nL 120.353444 -24.0425 \r\nL 121.984874 -24.0425 \r\nL 123.616303 -24.0425 \r\nL 125.247733 -24.0425 \r\nL 126.879163 -24.0425 \r\nL 128.510593 -24.0425 \r\nL 130.142023 -24.0425 \r\nL 131.773453 -24.0425 \r\nL 133.404883 -24.0425 \r\nL 135.036313 -24.0425 \r\nL 136.667742 -24.0425 \r\nL 138.299172 -24.0425 \r\nL 139.930602 -24.0425 \r\nL 141.562032 -24.0425 \r\nL 143.193462 -24.0425 \r\nL 144.824892 -24.0425 \r\nL 146.456322 -24.0425 \r\nL 148.087752 -24.0425 \r\nL 149.719181 -24.0425 \r\nL 151.350611 -24.0425 \r\nL 152.982041 -24.0425 \r\nL 154.613471 -24.0425 \r\nL 156.244901 -24.0425 \r\nL 157.876331 -24.0425 \r\nL 159.507761 -24.0425 \r\nL 161.139191 -24.0425 \r\nL 162.77062 -24.0425 \r\nL 164.40205 -24.0425 \r\nL 166.03348 -24.0425 \r\nL 167.66491 -24.0425 \r\nL 169.29634 -24.0425 \r\nL 170.92777 -24.0425 \r\nL 172.5592 -24.0425 \r\nL 174.19063 -24.0425 \r\nL 175.82206 -24.0425 \r\nL 177.453489 -24.0425 \r\nL 179.084919 -24.0425 \r\nL 180.716349 -24.0425 \r\nL 182.347779 -24.0425 \r\nL 183.979209 -24.0425 \r\nL 185.610639 -24.0425 \r\nL 187.242069 -24.0425 \r\nL 188.873499 -24.0425 \r\nL 190.504928 -24.0425 \r\nL 192.136358 -24.0425 \r\nL 193.767788 -24.0425 \r\nL 195.399218 -24.0425 \r\nL 197.030648 -24.0425 \r\nL 198.662078 -24.0425 \r\nL 200.293508 -24.0425 \r\nL 201.924938 -24.0425 \r\nL 203.556367 -24.0425 \r\nL 205.187797 -24.0425 \r\nL 206.819227 -24.0425 \r\nL 208.450657 -24.0425 \r\nL 210.082087 -24.0425 \r\nL 211.713517 -24.0425 \r\nL 213.344947 -24.0425 \r\nL 214.976377 -24.0425 \r\nL 216.607806 -24.0425 \r\nL 218.239236 -24.0425 \r\nL 219.870666 -24.0425 \r\nL 221.502096 -24.0425 \r\nL 223.133526 -24.0425 \r\nL 224.764956 -24.0425 \r\nL 226.396386 -24.0425 \r\nL 228.027816 -24.0425 \r\nL 229.659245 -24.0425 \r\nL 231.290675 -24.0425 \r\nL 232.922105 -24.0425 \r\nL 234.553535 -24.0425 \r\nL 236.184965 -24.0425 \r\nL 237.816395 -24.0425 \r\nL 239.447825 -24.0425 \r\nL 241.079255 -24.0425 \r\nL 242.710684 -24.0425 \r\nL 244.342114 -24.0425 \r\nL 245.973544 -24.0425 \r\nL 247.604974 -24.0425 \r\nL 249.236404 -24.0425 \r\nL 250.867834 -24.0425 \r\nL 252.499264 -24.0425 \r\nL 254.130694 -24.0425 \r\nL 255.762123 -24.0425 \r\nL 257.393553 -24.0425 \r\nL 259.024983 -24.0425 \r\nL 260.656413 -24.0425 \r\nL 262.287843 -24.0425 \r\nL 263.919273 -24.0425 \r\nL 265.550703 -24.0425 \r\nL 267.182133 -24.0425 \r\nL 268.813562 -24.0425 \r\nL 270.444992 -24.0425 \r\nL 272.076422 -24.0425 \r\nL 273.707852 -24.0425 \r\nL 275.339282 -24.0425 \r\nL 276.970712 -24.0425 \r\nL 278.602142 -24.0425 \r\nL 280.233572 -24.0425 \r\nL 281.865001 -24.0425 \r\nL 283.496431 -24.0425 \r\nL 285.127861 -24.0425 \r\nL 286.759291 -24.0425 \r\nL 288.390721 -24.0425 \r\nL 290.022151 -24.0425 \r\nL 291.653581 -24.0425 \r\nL 293.285011 -24.0425 \r\nL 294.91644 -24.0425 \r\nL 296.54787 -24.0425 \r\nL 298.1793 -24.0425 \r\nL 299.81073 -24.0425 \r\nL 301.44216 -24.0425 \r\nL 303.07359 -24.0425 \r\nL 304.70502 -24.0425 \r\nL 306.33645 -24.0425 \r\nL 307.96788 -24.0425 \r\nL 309.599309 -24.0425 \r\nL 311.230739 -24.0425 \r\nL 312.862169 -24.0425 \r\nL 314.493599 -24.0425 \r\nL 316.125029 -24.0425 \r\nL 317.756459 -24.0425 \r\nL 319.387889 -24.0425 \r\nL 321.019319 -24.0425 \r\nL 322.650748 -24.0425 \r\nL 324.282178 -24.0425 \r\nL 325.913608 -24.0425 \r\nL 327.545038 -24.0425 \r\nL 329.176468 -24.0425 \r\nL 330.807898 -24.0425 \r\nL 332.439328 -24.0425 \r\nL 334.070758 -24.0425 \r\nL 335.702187 -24.0425 \r\nL 337.333617 -24.0425 \r\nL 338.965047 -24.0425 \r\nL 340.596477 -24.0425 \r\nL 342.227907 -24.0425 \r\nL 343.859337 -24.0425 \r\nL 345.490767 -24.0425 \r\nL 347.122197 -24.0425 \r\nL 348.753626 -24.0425 \r\nL 350.385056 -24.0425 \r\nL 352.016486 -24.0425 \r\nL 353.647916 -24.0425 \r\nL 355.279346 -24.0425 \r\nL 356.910776 -24.0425 \r\nL 358.542206 -24.0425 \r\nL 360.173636 -24.0425 \r\nL 361.805065 -24.0425 \r\nL 363.436495 -24.0425 \r\nL 365.067925 -24.0425 \r\nL 366.699355 -24.0425 \r\nL 368.330785 -24.0425 \r\nL 369.962215 -24.0425 \r\nL 371.593645 -24.0425 \r\nL 373.225075 -24.0425 \r\nL 374.856504 -24.0425 \r\nL 376.487934 -24.0425 \r\nL 378.119364 -24.0425 \r\nL 379.750794 -24.0425 \r\nL 381.382224 -24.0425 \r\nL 383.013654 -24.0425 \r\nL 384.645084 -24.0425 \r\nL 386.276514 -24.0425 \r\nL 387.907943 -24.0425 \r\nL 389.539373 -24.0425 \r\nL 391.170803 -24.0425 \r\nL 392.802233 -24.0425 \r\nL 394.433663 -24.0425 \r\nL 396.065093 -24.0425 \r\nL 397.696523 -24.0425 \r\nL 397.696523 -24.079338 \r\nL 397.696523 -24.079338 \r\nL 396.065093 -24.097754 \r\nL 394.433663 -24.124319 \r\nL 392.802233 -24.162118 \r\nL 391.170803 -24.215175 \r\nL 389.539373 -24.288639 \r\nL 387.907943 -24.388986 \r\nL 386.276514 -24.524212 \r\nL 384.645084 -24.703998 \r\nL 383.013654 -24.939842 \r\nL 381.382224 -25.245119 \r\nL 379.750794 -25.635061 \r\nL 378.119364 -26.126631 \r\nL 376.487934 -26.738274 \r\nL 374.856504 -27.489535 \r\nL 373.225075 -28.40055 \r\nL 371.593645 -29.491417 \r\nL 369.962215 -30.781469 \r\nL 368.330785 -32.288483 \r\nL 366.699355 -34.027877 \r\nL 365.067925 -36.011929 \r\nL 363.436495 -38.249085 \r\nL 361.805065 -40.743383 \r\nL 360.173636 -43.494049 \r\nL 358.542206 -46.495277 \r\nL 356.910776 -49.736208 \r\nL 355.279346 -53.201098 \r\nL 353.647916 -56.869656 \r\nL 352.016486 -60.717521 \r\nL 350.385056 -64.716843 \r\nL 348.753626 -68.836928 \r\nL 347.122197 -73.044919 \r\nL 345.490767 -77.30648 \r\nL 343.859337 -81.58649 \r\nL 342.227907 -85.849722 \r\nL 340.596477 -90.061521 \r\nL 338.965047 -94.188494 \r\nL 337.333617 -98.199202 \r\nL 335.702187 -102.064873 \r\nL 334.070758 -105.760105 \r\nL 332.439328 -109.263552 \r\nL 330.807898 -112.558551 \r\nL 329.176468 -115.63365 \r\nL 327.545038 -118.482982 \r\nL 325.913608 -121.106458 \r\nL 324.282178 -123.509717 \r\nL 322.650748 -125.703829 \r\nL 321.019319 -127.704741 \r\nL 319.387889 -129.532462 \r\nL 317.756459 -131.210055 \r\nL 316.125029 -132.762459 \r\nL 314.493599 -134.215222 \r\nL 312.862169 -135.593232 \r\nL 311.230739 -136.919503 \r\nL 309.599309 -138.21412 \r\nL 307.96788 -139.493389 \r\nL 306.33645 -140.769261 \r\nL 304.70502 -142.049052 \r\nL 303.07359 -143.335477 \r\nL 301.44216 -144.62698 \r\nL 299.81073 -145.918329 \r\nL 298.1793 -147.201411 \r\nL 296.54787 -148.466162 \r\nL 294.91644 -149.701543 \r\nL 293.285011 -150.896473 \r\nL 291.653581 -152.040645 \r\nL 290.022151 -153.125151 \r\nL 288.390721 -154.142865 \r\nL 286.759291 -155.08858 \r\nL 285.127861 -155.958885 \r\nL 283.496431 -156.751841 \r\nL 281.865001 -157.466497 \r\nL 280.233572 -158.102334 \r\nL 278.602142 -158.65872 \r\nL 276.970712 -159.134445 \r\nL 275.339282 -159.527407 \r\nL 273.707852 -159.834481 \r\nL 272.076422 -160.051586 \r\nL 270.444992 -160.173928 \r\nL 268.813562 -160.196374 \r\nL 267.182133 -160.1139 \r\nL 265.550703 -159.922035 \r\nL 263.919273 -159.617256 \r\nL 262.287843 -159.197255 \r\nL 260.656413 -158.66109 \r\nL 259.024983 -158.009183 \r\nL 257.393553 -157.243216 \r\nL 255.762123 -156.365966 \r\nL 254.130694 -155.381128 \r\nL 252.499264 -154.293192 \r\nL 250.867834 -153.107423 \r\nL 249.236404 -151.829965 \r\nL 247.604974 -150.468082 \r\nL 245.973544 -149.030501 \r\nL 244.342114 -147.527807 \r\nL 242.710684 -145.972836 \r\nL 241.079255 -144.380961 \r\nL 239.447825 -142.770228 \r\nL 237.816395 -141.161245 \r\nL 236.184965 -139.576817 \r\nL 234.553535 -138.041299 \r\nL 232.922105 -136.579682 \r\nL 231.290675 -135.216485 \r\nL 229.659245 -133.974509 \r\nL 228.027816 -132.873548 \r\nL 226.396386 -131.929167 \r\nL 224.764956 -131.15162 \r\nL 223.133526 -130.545006 \r\nL 221.502096 -130.106722 \r\nL 219.870666 -129.827243 \r\nL 218.239236 -129.690248 \r\nL 216.607806 -129.673076 \r\nL 214.976377 -129.747486 \r\nL 213.344947 -129.880661 \r\nL 211.713517 -130.036401 \r\nL 210.082087 -130.176439 \r\nL 208.450657 -130.261809 \r\nL 206.819227 -130.254193 \r\nL 205.187797 -130.117205 \r\nL 203.556367 -129.817536 \r\nL 201.924938 -129.325942 \r\nL 200.293508 -128.618027 \r\nL 198.662078 -127.674824 \r\nL 197.030648 -126.483158 \r\nL 195.399218 -125.035805 \r\nL 193.767788 -123.33148 \r\nL 192.136358 -121.374668 \r\nL 190.504928 -119.175338 \r\nL 188.873499 -116.748587 \r\nL 187.242069 -114.114229 \r\nL 185.610639 -111.296365 \r\nL 183.979209 -108.322953 \r\nL 182.347779 -105.225393 \r\nL 180.716349 -102.038128 \r\nL 179.084919 -98.798275 \r\nL 177.453489 -95.545284 \r\nL 175.82206 -92.320649 \r\nL 174.19063 -89.167688 \r\nL 172.5592 -86.131416 \r\nL 170.92777 -83.258546 \r\nL 169.29634 -80.597646 \r\nL 167.66491 -78.199465 \r\nL 166.03348 -76.11743 \r\nL 164.40205 -74.408267 \r\nL 162.77062 -73.132673 \r\nL 161.139191 -72.35593 \r\nL 159.507761 -72.148297 \r\nL 157.876331 -72.585001 \r\nL 156.244901 -73.745617 \r\nL 154.613471 -75.712655 \r\nL 152.982041 -78.569163 \r\nL 151.350611 -82.395253 \r\nL 149.719181 -87.263478 \r\nL 148.087752 -93.233148 \r\nL 146.456322 -100.343736 \r\nL 144.824892 -108.60768 \r\nL 143.193462 -118.003014 \r\nL 141.562032 -128.466367 \r\nL 139.930602 -139.886976 \r\nL 138.299172 -152.102407 \r\nL 136.667742 -164.896688 \r\nL 135.036313 -178.001481 \r\nL 133.404883 -191.100791 \r\nL 131.773453 -203.839492 \r\nL 130.142023 -215.83563 \r\nL 128.510593 -226.696163 \r\nL 126.879163 -236.035376 \r\nL 125.247733 -243.494914 \r\nL 123.616303 -248.764031 \r\nL 121.984874 -251.598531 \r\nL 120.353444 -251.836786 \r\nL 118.722014 -249.411391 \r\nL 117.090584 -244.355294 \r\nL 115.459154 -236.801681 \r\nL 113.827724 -226.977455 \r\nL 112.196294 -215.190714 \r\nL 110.564864 -201.81321 \r\nL 108.933435 -187.259211 \r\nL 107.302005 -171.962496 \r\nL 105.670575 -156.353328 \r\nL 104.039145 -140.837182 \r\nL 102.407715 -125.776713 \r\nL 100.776285 -111.478074 \r\nL 99.144855 -98.182205 \r\nL 97.513425 -86.061202 \r\nL 95.881996 -75.219416 \r\nL 94.250566 -65.698575 \r\nL 92.619136 -57.485946 \r\nL 90.987706 -50.524452 \r\nL 89.356276 -44.723674 \r\nL 87.724846 -39.970764 \r\nL 86.093416 -36.14049 \r\nL 84.461986 -33.103885 \r\nL 82.830557 -30.735164 \r\nL 81.199127 -28.916823 \r\nL 79.567697 -27.542994 \r\nL 77.936267 -26.521258 \r\nL 76.304837 -25.773192 \r\nL 74.673407 -25.233955 \r\nL 73.041977 -24.851225 \r\nz\r\n\" id=\"m004684ff2c\" style=\"stroke:#ff7f0e;stroke-width:3;\"/>\r\n    </defs>\r\n    <g clip-path=\"url(#pd553112c24)\">\r\n     <use style=\"fill:#ff7f0e;fill-opacity:0.25;stroke:#ff7f0e;stroke-width:3;\" x=\"0\" xlink:href=\"#m004684ff2c\" y=\"283.721\"/>\r\n    </g>\r\n   </g>\r\n   <g id=\"matplotlib.axis_1\">\r\n    <g id=\"xtick_1\">\r\n     <g id=\"line2d_1\">\r\n      <defs>\r\n       <path d=\"M 0 0 \r\nL 0 3.5 \r\n\" id=\"mcb98e8078d\" style=\"stroke:#000000;stroke-width:0.8;\"/>\r\n      </defs>\r\n      <g>\r\n       <use style=\"stroke:#000000;stroke-width:0.8;\" x=\"69.694776\" xlink:href=\"#mcb98e8078d\" y=\"259.6785\"/>\r\n      </g>\r\n     </g>\r\n     <g id=\"text_1\">\r\n      <!-- 0 -->\r\n      <g transform=\"translate(67.149776 274.85725)scale(0.08 -0.08)\">\r\n       <defs>\r\n        <path d=\"M 31.78125 66.40625 \r\nQ 24.171875 66.40625 20.328125 58.90625 \r\nQ 16.5 51.421875 16.5 36.375 \r\nQ 16.5 21.390625 20.328125 13.890625 \r\nQ 24.171875 6.390625 31.78125 6.390625 \r\nQ 39.453125 6.390625 43.28125 13.890625 \r\nQ 47.125 21.390625 47.125 36.375 \r\nQ 47.125 51.421875 43.28125 58.90625 \r\nQ 39.453125 66.40625 31.78125 66.40625 \r\nz\r\nM 31.78125 74.21875 \r\nQ 44.046875 74.21875 50.515625 64.515625 \r\nQ 56.984375 54.828125 56.984375 36.375 \r\nQ 56.984375 17.96875 50.515625 8.265625 \r\nQ 44.046875 -1.421875 31.78125 -1.421875 \r\nQ 19.53125 -1.421875 13.0625 8.265625 \r\nQ 6.59375 17.96875 6.59375 36.375 \r\nQ 6.59375 54.828125 13.0625 64.515625 \r\nQ 19.53125 74.21875 31.78125 74.21875 \r\nz\r\n\" id=\"DejaVuSans-48\"/>\r\n       </defs>\r\n       <use xlink:href=\"#DejaVuSans-48\"/>\r\n      </g>\r\n     </g>\r\n    </g>\r\n    <g id=\"xtick_2\">\r\n     <g id=\"line2d_2\">\r\n      <g>\r\n       <use style=\"stroke:#000000;stroke-width:0.8;\" x=\"118.066885\" xlink:href=\"#mcb98e8078d\" y=\"259.6785\"/>\r\n      </g>\r\n     </g>\r\n     <g id=\"text_2\">\r\n      <!-- 20 -->\r\n      <g transform=\"translate(112.976885 274.85725)scale(0.08 -0.08)\">\r\n       <defs>\r\n        <path d=\"M 19.1875 8.296875 \r\nL 53.609375 8.296875 \r\nL 53.609375 0 \r\nL 7.328125 0 \r\nL 7.328125 8.296875 \r\nQ 12.9375 14.109375 22.625 23.890625 \r\nQ 32.328125 33.6875 34.8125 36.53125 \r\nQ 39.546875 41.84375 41.421875 45.53125 \r\nQ 43.3125 49.21875 43.3125 52.78125 \r\nQ 43.3125 58.59375 39.234375 62.25 \r\nQ 35.15625 65.921875 28.609375 65.921875 \r\nQ 23.96875 65.921875 18.8125 64.3125 \r\nQ 13.671875 62.703125 7.8125 59.421875 \r\nL 7.8125 69.390625 \r\nQ 13.765625 71.78125 18.9375 73 \r\nQ 24.125 74.21875 28.421875 74.21875 \r\nQ 39.75 74.21875 46.484375 68.546875 \r\nQ 53.21875 62.890625 53.21875 53.421875 \r\nQ 53.21875 48.921875 51.53125 44.890625 \r\nQ 49.859375 40.875 45.40625 35.40625 \r\nQ 44.1875 33.984375 37.640625 27.21875 \r\nQ 31.109375 20.453125 19.1875 8.296875 \r\nz\r\n\" id=\"DejaVuSans-50\"/>\r\n       </defs>\r\n       <use xlink:href=\"#DejaVuSans-50\"/>\r\n       <use x=\"63.623047\" xlink:href=\"#DejaVuSans-48\"/>\r\n      </g>\r\n     </g>\r\n    </g>\r\n    <g id=\"xtick_3\">\r\n     <g id=\"line2d_3\">\r\n      <g>\r\n       <use style=\"stroke:#000000;stroke-width:0.8;\" x=\"166.438995\" xlink:href=\"#mcb98e8078d\" y=\"259.6785\"/>\r\n      </g>\r\n     </g>\r\n     <g id=\"text_3\">\r\n      <!-- 40 -->\r\n      <g transform=\"translate(161.348995 274.85725)scale(0.08 -0.08)\">\r\n       <defs>\r\n        <path d=\"M 37.796875 64.3125 \r\nL 12.890625 25.390625 \r\nL 37.796875 25.390625 \r\nz\r\nM 35.203125 72.90625 \r\nL 47.609375 72.90625 \r\nL 47.609375 25.390625 \r\nL 58.015625 25.390625 \r\nL 58.015625 17.1875 \r\nL 47.609375 17.1875 \r\nL 47.609375 0 \r\nL 37.796875 0 \r\nL 37.796875 17.1875 \r\nL 4.890625 17.1875 \r\nL 4.890625 26.703125 \r\nz\r\n\" id=\"DejaVuSans-52\"/>\r\n       </defs>\r\n       <use xlink:href=\"#DejaVuSans-52\"/>\r\n       <use x=\"63.623047\" xlink:href=\"#DejaVuSans-48\"/>\r\n      </g>\r\n     </g>\r\n    </g>\r\n    <g id=\"xtick_4\">\r\n     <g id=\"line2d_4\">\r\n      <g>\r\n       <use style=\"stroke:#000000;stroke-width:0.8;\" x=\"214.811104\" xlink:href=\"#mcb98e8078d\" y=\"259.6785\"/>\r\n      </g>\r\n     </g>\r\n     <g id=\"text_4\">\r\n      <!-- 60 -->\r\n      <g transform=\"translate(209.721104 274.85725)scale(0.08 -0.08)\">\r\n       <defs>\r\n        <path d=\"M 33.015625 40.375 \r\nQ 26.375 40.375 22.484375 35.828125 \r\nQ 18.609375 31.296875 18.609375 23.390625 \r\nQ 18.609375 15.53125 22.484375 10.953125 \r\nQ 26.375 6.390625 33.015625 6.390625 \r\nQ 39.65625 6.390625 43.53125 10.953125 \r\nQ 47.40625 15.53125 47.40625 23.390625 \r\nQ 47.40625 31.296875 43.53125 35.828125 \r\nQ 39.65625 40.375 33.015625 40.375 \r\nz\r\nM 52.59375 71.296875 \r\nL 52.59375 62.3125 \r\nQ 48.875 64.0625 45.09375 64.984375 \r\nQ 41.3125 65.921875 37.59375 65.921875 \r\nQ 27.828125 65.921875 22.671875 59.328125 \r\nQ 17.53125 52.734375 16.796875 39.40625 \r\nQ 19.671875 43.65625 24.015625 45.921875 \r\nQ 28.375 48.1875 33.59375 48.1875 \r\nQ 44.578125 48.1875 50.953125 41.515625 \r\nQ 57.328125 34.859375 57.328125 23.390625 \r\nQ 57.328125 12.15625 50.6875 5.359375 \r\nQ 44.046875 -1.421875 33.015625 -1.421875 \r\nQ 20.359375 -1.421875 13.671875 8.265625 \r\nQ 6.984375 17.96875 6.984375 36.375 \r\nQ 6.984375 53.65625 15.1875 63.9375 \r\nQ 23.390625 74.21875 37.203125 74.21875 \r\nQ 40.921875 74.21875 44.703125 73.484375 \r\nQ 48.484375 72.75 52.59375 71.296875 \r\nz\r\n\" id=\"DejaVuSans-54\"/>\r\n       </defs>\r\n       <use xlink:href=\"#DejaVuSans-54\"/>\r\n       <use x=\"63.623047\" xlink:href=\"#DejaVuSans-48\"/>\r\n      </g>\r\n     </g>\r\n    </g>\r\n    <g id=\"xtick_5\">\r\n     <g id=\"line2d_5\">\r\n      <g>\r\n       <use style=\"stroke:#000000;stroke-width:0.8;\" x=\"263.183213\" xlink:href=\"#mcb98e8078d\" y=\"259.6785\"/>\r\n      </g>\r\n     </g>\r\n     <g id=\"text_5\">\r\n      <!-- 80 -->\r\n      <g transform=\"translate(258.093213 274.85725)scale(0.08 -0.08)\">\r\n       <defs>\r\n        <path d=\"M 31.78125 34.625 \r\nQ 24.75 34.625 20.71875 30.859375 \r\nQ 16.703125 27.09375 16.703125 20.515625 \r\nQ 16.703125 13.921875 20.71875 10.15625 \r\nQ 24.75 6.390625 31.78125 6.390625 \r\nQ 38.8125 6.390625 42.859375 10.171875 \r\nQ 46.921875 13.96875 46.921875 20.515625 \r\nQ 46.921875 27.09375 42.890625 30.859375 \r\nQ 38.875 34.625 31.78125 34.625 \r\nz\r\nM 21.921875 38.8125 \r\nQ 15.578125 40.375 12.03125 44.71875 \r\nQ 8.5 49.078125 8.5 55.328125 \r\nQ 8.5 64.0625 14.71875 69.140625 \r\nQ 20.953125 74.21875 31.78125 74.21875 \r\nQ 42.671875 74.21875 48.875 69.140625 \r\nQ 55.078125 64.0625 55.078125 55.328125 \r\nQ 55.078125 49.078125 51.53125 44.71875 \r\nQ 48 40.375 41.703125 38.8125 \r\nQ 48.828125 37.15625 52.796875 32.3125 \r\nQ 56.78125 27.484375 56.78125 20.515625 \r\nQ 56.78125 9.90625 50.3125 4.234375 \r\nQ 43.84375 -1.421875 31.78125 -1.421875 \r\nQ 19.734375 -1.421875 13.25 4.234375 \r\nQ 6.78125 9.90625 6.78125 20.515625 \r\nQ 6.78125 27.484375 10.78125 32.3125 \r\nQ 14.796875 37.15625 21.921875 38.8125 \r\nz\r\nM 18.3125 54.390625 \r\nQ 18.3125 48.734375 21.84375 45.5625 \r\nQ 25.390625 42.390625 31.78125 42.390625 \r\nQ 38.140625 42.390625 41.71875 45.5625 \r\nQ 45.3125 48.734375 45.3125 54.390625 \r\nQ 45.3125 60.0625 41.71875 63.234375 \r\nQ 38.140625 66.40625 31.78125 66.40625 \r\nQ 25.390625 66.40625 21.84375 63.234375 \r\nQ 18.3125 60.0625 18.3125 54.390625 \r\nz\r\n\" id=\"DejaVuSans-56\"/>\r\n       </defs>\r\n       <use xlink:href=\"#DejaVuSans-56\"/>\r\n       <use x=\"63.623047\" xlink:href=\"#DejaVuSans-48\"/>\r\n      </g>\r\n     </g>\r\n    </g>\r\n    <g id=\"xtick_6\">\r\n     <g id=\"line2d_6\">\r\n      <g>\r\n       <use style=\"stroke:#000000;stroke-width:0.8;\" x=\"311.555322\" xlink:href=\"#mcb98e8078d\" y=\"259.6785\"/>\r\n      </g>\r\n     </g>\r\n     <g id=\"text_6\">\r\n      <!-- 100 -->\r\n      <g transform=\"translate(303.920322 274.85725)scale(0.08 -0.08)\">\r\n       <defs>\r\n        <path d=\"M 12.40625 8.296875 \r\nL 28.515625 8.296875 \r\nL 28.515625 63.921875 \r\nL 10.984375 60.40625 \r\nL 10.984375 69.390625 \r\nL 28.421875 72.90625 \r\nL 38.28125 72.90625 \r\nL 38.28125 8.296875 \r\nL 54.390625 8.296875 \r\nL 54.390625 0 \r\nL 12.40625 0 \r\nz\r\n\" id=\"DejaVuSans-49\"/>\r\n       </defs>\r\n       <use xlink:href=\"#DejaVuSans-49\"/>\r\n       <use x=\"63.623047\" xlink:href=\"#DejaVuSans-48\"/>\r\n       <use x=\"127.246094\" xlink:href=\"#DejaVuSans-48\"/>\r\n      </g>\r\n     </g>\r\n    </g>\r\n    <g id=\"xtick_7\">\r\n     <g id=\"line2d_7\">\r\n      <g>\r\n       <use style=\"stroke:#000000;stroke-width:0.8;\" x=\"359.927431\" xlink:href=\"#mcb98e8078d\" y=\"259.6785\"/>\r\n      </g>\r\n     </g>\r\n     <g id=\"text_7\">\r\n      <!-- 120 -->\r\n      <g transform=\"translate(352.292431 274.85725)scale(0.08 -0.08)\">\r\n       <use xlink:href=\"#DejaVuSans-49\"/>\r\n       <use x=\"63.623047\" xlink:href=\"#DejaVuSans-50\"/>\r\n       <use x=\"127.246094\" xlink:href=\"#DejaVuSans-48\"/>\r\n      </g>\r\n     </g>\r\n    </g>\r\n    <g id=\"xtick_8\">\r\n     <g id=\"line2d_8\">\r\n      <g>\r\n       <use style=\"stroke:#000000;stroke-width:0.8;\" x=\"408.29954\" xlink:href=\"#mcb98e8078d\" y=\"259.6785\"/>\r\n      </g>\r\n     </g>\r\n     <g id=\"text_8\">\r\n      <!-- 140 -->\r\n      <g transform=\"translate(400.66454 274.85725)scale(0.08 -0.08)\">\r\n       <use xlink:href=\"#DejaVuSans-49\"/>\r\n       <use x=\"63.623047\" xlink:href=\"#DejaVuSans-52\"/>\r\n       <use x=\"127.246094\" xlink:href=\"#DejaVuSans-48\"/>\r\n      </g>\r\n     </g>\r\n    </g>\r\n   </g>\r\n   <g id=\"matplotlib.axis_2\">\r\n    <g id=\"ytick_1\">\r\n     <g id=\"line2d_9\">\r\n      <defs>\r\n       <path d=\"M 0 0 \r\nL -3.5 0 \r\n\" id=\"mc1bb82d41c\" style=\"stroke:#000000;stroke-width:0.8;\"/>\r\n      </defs>\r\n      <g>\r\n       <use style=\"stroke:#000000;stroke-width:0.8;\" x=\"56.80925\" xlink:href=\"#mc1bb82d41c\" y=\"259.6785\"/>\r\n      </g>\r\n     </g>\r\n     <g id=\"text_9\">\r\n      <!-- 0.0000 -->\r\n      <g transform=\"translate(19.71675 262.717875)scale(0.08 -0.08)\">\r\n       <defs>\r\n        <path d=\"M 10.6875 12.40625 \r\nL 21 12.40625 \r\nL 21 0 \r\nL 10.6875 0 \r\nz\r\n\" id=\"DejaVuSans-46\"/>\r\n       </defs>\r\n       <use xlink:href=\"#DejaVuSans-48\"/>\r\n       <use x=\"63.623047\" xlink:href=\"#DejaVuSans-46\"/>\r\n       <use x=\"95.410156\" xlink:href=\"#DejaVuSans-48\"/>\r\n       <use x=\"159.033203\" xlink:href=\"#DejaVuSans-48\"/>\r\n       <use x=\"222.65625\" xlink:href=\"#DejaVuSans-48\"/>\r\n       <use x=\"286.279297\" xlink:href=\"#DejaVuSans-48\"/>\r\n      </g>\r\n     </g>\r\n    </g>\r\n    <g id=\"ytick_2\">\r\n     <g id=\"line2d_10\">\r\n      <g>\r\n       <use style=\"stroke:#000000;stroke-width:0.8;\" x=\"56.80925\" xlink:href=\"#mc1bb82d41c\" y=\"229.377645\"/>\r\n      </g>\r\n     </g>\r\n     <g id=\"text_10\">\r\n      <!-- 0.0025 -->\r\n      <g transform=\"translate(19.71675 232.41702)scale(0.08 -0.08)\">\r\n       <defs>\r\n        <path d=\"M 10.796875 72.90625 \r\nL 49.515625 72.90625 \r\nL 49.515625 64.59375 \r\nL 19.828125 64.59375 \r\nL 19.828125 46.734375 \r\nQ 21.96875 47.46875 24.109375 47.828125 \r\nQ 26.265625 48.1875 28.421875 48.1875 \r\nQ 40.625 48.1875 47.75 41.5 \r\nQ 54.890625 34.8125 54.890625 23.390625 \r\nQ 54.890625 11.625 47.5625 5.09375 \r\nQ 40.234375 -1.421875 26.90625 -1.421875 \r\nQ 22.3125 -1.421875 17.546875 -0.640625 \r\nQ 12.796875 0.140625 7.71875 1.703125 \r\nL 7.71875 11.625 \r\nQ 12.109375 9.234375 16.796875 8.0625 \r\nQ 21.484375 6.890625 26.703125 6.890625 \r\nQ 35.15625 6.890625 40.078125 11.328125 \r\nQ 45.015625 15.765625 45.015625 23.390625 \r\nQ 45.015625 31 40.078125 35.4375 \r\nQ 35.15625 39.890625 26.703125 39.890625 \r\nQ 22.75 39.890625 18.8125 39.015625 \r\nQ 14.890625 38.140625 10.796875 36.28125 \r\nz\r\n\" id=\"DejaVuSans-53\"/>\r\n       </defs>\r\n       <use xlink:href=\"#DejaVuSans-48\"/>\r\n       <use x=\"63.623047\" xlink:href=\"#DejaVuSans-46\"/>\r\n       <use x=\"95.410156\" xlink:href=\"#DejaVuSans-48\"/>\r\n       <use x=\"159.033203\" xlink:href=\"#DejaVuSans-48\"/>\r\n       <use x=\"222.65625\" xlink:href=\"#DejaVuSans-50\"/>\r\n       <use x=\"286.279297\" xlink:href=\"#DejaVuSans-53\"/>\r\n      </g>\r\n     </g>\r\n    </g>\r\n    <g id=\"ytick_3\">\r\n     <g id=\"line2d_11\">\r\n      <g>\r\n       <use style=\"stroke:#000000;stroke-width:0.8;\" x=\"56.80925\" xlink:href=\"#mc1bb82d41c\" y=\"199.076789\"/>\r\n      </g>\r\n     </g>\r\n     <g id=\"text_11\">\r\n      <!-- 0.0050 -->\r\n      <g transform=\"translate(19.71675 202.116164)scale(0.08 -0.08)\">\r\n       <use xlink:href=\"#DejaVuSans-48\"/>\r\n       <use x=\"63.623047\" xlink:href=\"#DejaVuSans-46\"/>\r\n       <use x=\"95.410156\" xlink:href=\"#DejaVuSans-48\"/>\r\n       <use x=\"159.033203\" xlink:href=\"#DejaVuSans-48\"/>\r\n       <use x=\"222.65625\" xlink:href=\"#DejaVuSans-53\"/>\r\n       <use x=\"286.279297\" xlink:href=\"#DejaVuSans-48\"/>\r\n      </g>\r\n     </g>\r\n    </g>\r\n    <g id=\"ytick_4\">\r\n     <g id=\"line2d_12\">\r\n      <g>\r\n       <use style=\"stroke:#000000;stroke-width:0.8;\" x=\"56.80925\" xlink:href=\"#mc1bb82d41c\" y=\"168.775934\"/>\r\n      </g>\r\n     </g>\r\n     <g id=\"text_12\">\r\n      <!-- 0.0075 -->\r\n      <g transform=\"translate(19.71675 171.815309)scale(0.08 -0.08)\">\r\n       <defs>\r\n        <path d=\"M 8.203125 72.90625 \r\nL 55.078125 72.90625 \r\nL 55.078125 68.703125 \r\nL 28.609375 0 \r\nL 18.3125 0 \r\nL 43.21875 64.59375 \r\nL 8.203125 64.59375 \r\nz\r\n\" id=\"DejaVuSans-55\"/>\r\n       </defs>\r\n       <use xlink:href=\"#DejaVuSans-48\"/>\r\n       <use x=\"63.623047\" xlink:href=\"#DejaVuSans-46\"/>\r\n       <use x=\"95.410156\" xlink:href=\"#DejaVuSans-48\"/>\r\n       <use x=\"159.033203\" xlink:href=\"#DejaVuSans-48\"/>\r\n       <use x=\"222.65625\" xlink:href=\"#DejaVuSans-55\"/>\r\n       <use x=\"286.279297\" xlink:href=\"#DejaVuSans-53\"/>\r\n      </g>\r\n     </g>\r\n    </g>\r\n    <g id=\"ytick_5\">\r\n     <g id=\"line2d_13\">\r\n      <g>\r\n       <use style=\"stroke:#000000;stroke-width:0.8;\" x=\"56.80925\" xlink:href=\"#mc1bb82d41c\" y=\"138.475079\"/>\r\n      </g>\r\n     </g>\r\n     <g id=\"text_13\">\r\n      <!-- 0.0100 -->\r\n      <g transform=\"translate(19.71675 141.514454)scale(0.08 -0.08)\">\r\n       <use xlink:href=\"#DejaVuSans-48\"/>\r\n       <use x=\"63.623047\" xlink:href=\"#DejaVuSans-46\"/>\r\n       <use x=\"95.410156\" xlink:href=\"#DejaVuSans-48\"/>\r\n       <use x=\"159.033203\" xlink:href=\"#DejaVuSans-49\"/>\r\n       <use x=\"222.65625\" xlink:href=\"#DejaVuSans-48\"/>\r\n       <use x=\"286.279297\" xlink:href=\"#DejaVuSans-48\"/>\r\n      </g>\r\n     </g>\r\n    </g>\r\n    <g id=\"ytick_6\">\r\n     <g id=\"line2d_14\">\r\n      <g>\r\n       <use style=\"stroke:#000000;stroke-width:0.8;\" x=\"56.80925\" xlink:href=\"#mc1bb82d41c\" y=\"108.174224\"/>\r\n      </g>\r\n     </g>\r\n     <g id=\"text_14\">\r\n      <!-- 0.0125 -->\r\n      <g transform=\"translate(19.71675 111.213599)scale(0.08 -0.08)\">\r\n       <use xlink:href=\"#DejaVuSans-48\"/>\r\n       <use x=\"63.623047\" xlink:href=\"#DejaVuSans-46\"/>\r\n       <use x=\"95.410156\" xlink:href=\"#DejaVuSans-48\"/>\r\n       <use x=\"159.033203\" xlink:href=\"#DejaVuSans-49\"/>\r\n       <use x=\"222.65625\" xlink:href=\"#DejaVuSans-50\"/>\r\n       <use x=\"286.279297\" xlink:href=\"#DejaVuSans-53\"/>\r\n      </g>\r\n     </g>\r\n    </g>\r\n    <g id=\"ytick_7\">\r\n     <g id=\"line2d_15\">\r\n      <g>\r\n       <use style=\"stroke:#000000;stroke-width:0.8;\" x=\"56.80925\" xlink:href=\"#mc1bb82d41c\" y=\"77.873368\"/>\r\n      </g>\r\n     </g>\r\n     <g id=\"text_15\">\r\n      <!-- 0.0150 -->\r\n      <g transform=\"translate(19.71675 80.912743)scale(0.08 -0.08)\">\r\n       <use xlink:href=\"#DejaVuSans-48\"/>\r\n       <use x=\"63.623047\" xlink:href=\"#DejaVuSans-46\"/>\r\n       <use x=\"95.410156\" xlink:href=\"#DejaVuSans-48\"/>\r\n       <use x=\"159.033203\" xlink:href=\"#DejaVuSans-49\"/>\r\n       <use x=\"222.65625\" xlink:href=\"#DejaVuSans-53\"/>\r\n       <use x=\"286.279297\" xlink:href=\"#DejaVuSans-48\"/>\r\n      </g>\r\n     </g>\r\n    </g>\r\n    <g id=\"ytick_8\">\r\n     <g id=\"line2d_16\">\r\n      <g>\r\n       <use style=\"stroke:#000000;stroke-width:0.8;\" x=\"56.80925\" xlink:href=\"#mc1bb82d41c\" y=\"47.572513\"/>\r\n      </g>\r\n     </g>\r\n     <g id=\"text_16\">\r\n      <!-- 0.0175 -->\r\n      <g transform=\"translate(19.71675 50.611888)scale(0.08 -0.08)\">\r\n       <use xlink:href=\"#DejaVuSans-48\"/>\r\n       <use x=\"63.623047\" xlink:href=\"#DejaVuSans-46\"/>\r\n       <use x=\"95.410156\" xlink:href=\"#DejaVuSans-48\"/>\r\n       <use x=\"159.033203\" xlink:href=\"#DejaVuSans-49\"/>\r\n       <use x=\"222.65625\" xlink:href=\"#DejaVuSans-55\"/>\r\n       <use x=\"286.279297\" xlink:href=\"#DejaVuSans-53\"/>\r\n      </g>\r\n     </g>\r\n    </g>\r\n    <g id=\"text_17\">\r\n     <!-- Density -->\r\n     <g transform=\"translate(13.886625 156.814063)rotate(-90)scale(0.088 -0.088)\">\r\n      <defs>\r\n       <path d=\"M 19.671875 64.796875 \r\nL 19.671875 8.109375 \r\nL 31.59375 8.109375 \r\nQ 46.6875 8.109375 53.6875 14.9375 \r\nQ 60.6875 21.78125 60.6875 36.53125 \r\nQ 60.6875 51.171875 53.6875 57.984375 \r\nQ 46.6875 64.796875 31.59375 64.796875 \r\nz\r\nM 9.8125 72.90625 \r\nL 30.078125 72.90625 \r\nQ 51.265625 72.90625 61.171875 64.09375 \r\nQ 71.09375 55.28125 71.09375 36.53125 \r\nQ 71.09375 17.671875 61.125 8.828125 \r\nQ 51.171875 0 30.078125 0 \r\nL 9.8125 0 \r\nz\r\n\" id=\"DejaVuSans-68\"/>\r\n       <path d=\"M 56.203125 29.59375 \r\nL 56.203125 25.203125 \r\nL 14.890625 25.203125 \r\nQ 15.484375 15.921875 20.484375 11.0625 \r\nQ 25.484375 6.203125 34.421875 6.203125 \r\nQ 39.59375 6.203125 44.453125 7.46875 \r\nQ 49.3125 8.734375 54.109375 11.28125 \r\nL 54.109375 2.78125 \r\nQ 49.265625 0.734375 44.1875 -0.34375 \r\nQ 39.109375 -1.421875 33.890625 -1.421875 \r\nQ 20.796875 -1.421875 13.15625 6.1875 \r\nQ 5.515625 13.8125 5.515625 26.8125 \r\nQ 5.515625 40.234375 12.765625 48.109375 \r\nQ 20.015625 56 32.328125 56 \r\nQ 43.359375 56 49.78125 48.890625 \r\nQ 56.203125 41.796875 56.203125 29.59375 \r\nz\r\nM 47.21875 32.234375 \r\nQ 47.125 39.59375 43.09375 43.984375 \r\nQ 39.0625 48.390625 32.421875 48.390625 \r\nQ 24.90625 48.390625 20.390625 44.140625 \r\nQ 15.875 39.890625 15.1875 32.171875 \r\nz\r\n\" id=\"DejaVuSans-101\"/>\r\n       <path d=\"M 54.890625 33.015625 \r\nL 54.890625 0 \r\nL 45.90625 0 \r\nL 45.90625 32.71875 \r\nQ 45.90625 40.484375 42.875 44.328125 \r\nQ 39.84375 48.1875 33.796875 48.1875 \r\nQ 26.515625 48.1875 22.3125 43.546875 \r\nQ 18.109375 38.921875 18.109375 30.90625 \r\nL 18.109375 0 \r\nL 9.078125 0 \r\nL 9.078125 54.6875 \r\nL 18.109375 54.6875 \r\nL 18.109375 46.1875 \r\nQ 21.34375 51.125 25.703125 53.5625 \r\nQ 30.078125 56 35.796875 56 \r\nQ 45.21875 56 50.046875 50.171875 \r\nQ 54.890625 44.34375 54.890625 33.015625 \r\nz\r\n\" id=\"DejaVuSans-110\"/>\r\n       <path d=\"M 44.28125 53.078125 \r\nL 44.28125 44.578125 \r\nQ 40.484375 46.53125 36.375 47.5 \r\nQ 32.28125 48.484375 27.875 48.484375 \r\nQ 21.1875 48.484375 17.84375 46.4375 \r\nQ 14.5 44.390625 14.5 40.28125 \r\nQ 14.5 37.15625 16.890625 35.375 \r\nQ 19.28125 33.59375 26.515625 31.984375 \r\nL 29.59375 31.296875 \r\nQ 39.15625 29.25 43.1875 25.515625 \r\nQ 47.21875 21.78125 47.21875 15.09375 \r\nQ 47.21875 7.46875 41.1875 3.015625 \r\nQ 35.15625 -1.421875 24.609375 -1.421875 \r\nQ 20.21875 -1.421875 15.453125 -0.5625 \r\nQ 10.6875 0.296875 5.421875 2 \r\nL 5.421875 11.28125 \r\nQ 10.40625 8.6875 15.234375 7.390625 \r\nQ 20.0625 6.109375 24.8125 6.109375 \r\nQ 31.15625 6.109375 34.5625 8.28125 \r\nQ 37.984375 10.453125 37.984375 14.40625 \r\nQ 37.984375 18.0625 35.515625 20.015625 \r\nQ 33.0625 21.96875 24.703125 23.78125 \r\nL 21.578125 24.515625 \r\nQ 13.234375 26.265625 9.515625 29.90625 \r\nQ 5.8125 33.546875 5.8125 39.890625 \r\nQ 5.8125 47.609375 11.28125 51.796875 \r\nQ 16.75 56 26.8125 56 \r\nQ 31.78125 56 36.171875 55.265625 \r\nQ 40.578125 54.546875 44.28125 53.078125 \r\nz\r\n\" id=\"DejaVuSans-115\"/>\r\n       <path d=\"M 9.421875 54.6875 \r\nL 18.40625 54.6875 \r\nL 18.40625 0 \r\nL 9.421875 0 \r\nz\r\nM 9.421875 75.984375 \r\nL 18.40625 75.984375 \r\nL 18.40625 64.59375 \r\nL 9.421875 64.59375 \r\nz\r\n\" id=\"DejaVuSans-105\"/>\r\n       <path d=\"M 18.3125 70.21875 \r\nL 18.3125 54.6875 \r\nL 36.8125 54.6875 \r\nL 36.8125 47.703125 \r\nL 18.3125 47.703125 \r\nL 18.3125 18.015625 \r\nQ 18.3125 11.328125 20.140625 9.421875 \r\nQ 21.96875 7.515625 27.59375 7.515625 \r\nL 36.8125 7.515625 \r\nL 36.8125 0 \r\nL 27.59375 0 \r\nQ 17.1875 0 13.234375 3.875 \r\nQ 9.28125 7.765625 9.28125 18.015625 \r\nL 9.28125 47.703125 \r\nL 2.6875 47.703125 \r\nL 2.6875 54.6875 \r\nL 9.28125 54.6875 \r\nL 9.28125 70.21875 \r\nz\r\n\" id=\"DejaVuSans-116\"/>\r\n       <path d=\"M 32.171875 -5.078125 \r\nQ 28.375 -14.84375 24.75 -17.8125 \r\nQ 21.140625 -20.796875 15.09375 -20.796875 \r\nL 7.90625 -20.796875 \r\nL 7.90625 -13.28125 \r\nL 13.1875 -13.28125 \r\nQ 16.890625 -13.28125 18.9375 -11.515625 \r\nQ 21 -9.765625 23.484375 -3.21875 \r\nL 25.09375 0.875 \r\nL 2.984375 54.6875 \r\nL 12.5 54.6875 \r\nL 29.59375 11.921875 \r\nL 46.6875 54.6875 \r\nL 56.203125 54.6875 \r\nz\r\n\" id=\"DejaVuSans-121\"/>\r\n      </defs>\r\n      <use xlink:href=\"#DejaVuSans-68\"/>\r\n      <use x=\"77.001953\" xlink:href=\"#DejaVuSans-101\"/>\r\n      <use x=\"138.525391\" xlink:href=\"#DejaVuSans-110\"/>\r\n      <use x=\"201.904297\" xlink:href=\"#DejaVuSans-115\"/>\r\n      <use x=\"254.003906\" xlink:href=\"#DejaVuSans-105\"/>\r\n      <use x=\"281.787109\" xlink:href=\"#DejaVuSans-116\"/>\r\n      <use x=\"320.996094\" xlink:href=\"#DejaVuSans-121\"/>\r\n     </g>\r\n    </g>\r\n   </g>\r\n   <g id=\"patch_3\">\r\n    <path d=\"M 56.80925 259.6785 \r\nL 56.80925 20.4945 \r\n\" style=\"fill:none;stroke:#000000;stroke-linecap:square;stroke-linejoin:miter;stroke-width:0.8;\"/>\r\n   </g>\r\n   <g id=\"patch_4\">\r\n    <path d=\"M 413.92925 259.6785 \r\nL 413.92925 20.4945 \r\n\" style=\"fill:none;stroke:#000000;stroke-linecap:square;stroke-linejoin:miter;stroke-width:0.8;\"/>\r\n   </g>\r\n   <g id=\"patch_5\">\r\n    <path d=\"M 56.80925 259.6785 \r\nL 413.92925 259.6785 \r\n\" style=\"fill:none;stroke:#000000;stroke-linecap:square;stroke-linejoin:miter;stroke-width:0.8;\"/>\r\n   </g>\r\n   <g id=\"patch_6\">\r\n    <path d=\"M 56.80925 20.4945 \r\nL 413.92925 20.4945 \r\n\" style=\"fill:none;stroke:#000000;stroke-linecap:square;stroke-linejoin:miter;stroke-width:0.8;\"/>\r\n   </g>\r\n   <g id=\"text_18\">\r\n    <!-- Density Plot with ChurnLabel -->\r\n    <g transform=\"translate(165.998 14.4945)scale(0.096 -0.096)\">\r\n     <defs>\r\n      <path id=\"DejaVuSans-32\"/>\r\n      <path d=\"M 19.671875 64.796875 \r\nL 19.671875 37.40625 \r\nL 32.078125 37.40625 \r\nQ 38.96875 37.40625 42.71875 40.96875 \r\nQ 46.484375 44.53125 46.484375 51.125 \r\nQ 46.484375 57.671875 42.71875 61.234375 \r\nQ 38.96875 64.796875 32.078125 64.796875 \r\nz\r\nM 9.8125 72.90625 \r\nL 32.078125 72.90625 \r\nQ 44.34375 72.90625 50.609375 67.359375 \r\nQ 56.890625 61.8125 56.890625 51.125 \r\nQ 56.890625 40.328125 50.609375 34.8125 \r\nQ 44.34375 29.296875 32.078125 29.296875 \r\nL 19.671875 29.296875 \r\nL 19.671875 0 \r\nL 9.8125 0 \r\nz\r\n\" id=\"DejaVuSans-80\"/>\r\n      <path d=\"M 9.421875 75.984375 \r\nL 18.40625 75.984375 \r\nL 18.40625 0 \r\nL 9.421875 0 \r\nz\r\n\" id=\"DejaVuSans-108\"/>\r\n      <path d=\"M 30.609375 48.390625 \r\nQ 23.390625 48.390625 19.1875 42.75 \r\nQ 14.984375 37.109375 14.984375 27.296875 \r\nQ 14.984375 17.484375 19.15625 11.84375 \r\nQ 23.34375 6.203125 30.609375 6.203125 \r\nQ 37.796875 6.203125 41.984375 11.859375 \r\nQ 46.1875 17.53125 46.1875 27.296875 \r\nQ 46.1875 37.015625 41.984375 42.703125 \r\nQ 37.796875 48.390625 30.609375 48.390625 \r\nz\r\nM 30.609375 56 \r\nQ 42.328125 56 49.015625 48.375 \r\nQ 55.71875 40.765625 55.71875 27.296875 \r\nQ 55.71875 13.875 49.015625 6.21875 \r\nQ 42.328125 -1.421875 30.609375 -1.421875 \r\nQ 18.84375 -1.421875 12.171875 6.21875 \r\nQ 5.515625 13.875 5.515625 27.296875 \r\nQ 5.515625 40.765625 12.171875 48.375 \r\nQ 18.84375 56 30.609375 56 \r\nz\r\n\" id=\"DejaVuSans-111\"/>\r\n      <path d=\"M 4.203125 54.6875 \r\nL 13.1875 54.6875 \r\nL 24.421875 12.015625 \r\nL 35.59375 54.6875 \r\nL 46.1875 54.6875 \r\nL 57.421875 12.015625 \r\nL 68.609375 54.6875 \r\nL 77.59375 54.6875 \r\nL 63.28125 0 \r\nL 52.6875 0 \r\nL 40.921875 44.828125 \r\nL 29.109375 0 \r\nL 18.5 0 \r\nz\r\n\" id=\"DejaVuSans-119\"/>\r\n      <path d=\"M 54.890625 33.015625 \r\nL 54.890625 0 \r\nL 45.90625 0 \r\nL 45.90625 32.71875 \r\nQ 45.90625 40.484375 42.875 44.328125 \r\nQ 39.84375 48.1875 33.796875 48.1875 \r\nQ 26.515625 48.1875 22.3125 43.546875 \r\nQ 18.109375 38.921875 18.109375 30.90625 \r\nL 18.109375 0 \r\nL 9.078125 0 \r\nL 9.078125 75.984375 \r\nL 18.109375 75.984375 \r\nL 18.109375 46.1875 \r\nQ 21.34375 51.125 25.703125 53.5625 \r\nQ 30.078125 56 35.796875 56 \r\nQ 45.21875 56 50.046875 50.171875 \r\nQ 54.890625 44.34375 54.890625 33.015625 \r\nz\r\n\" id=\"DejaVuSans-104\"/>\r\n      <path d=\"M 64.40625 67.28125 \r\nL 64.40625 56.890625 \r\nQ 59.421875 61.53125 53.78125 63.8125 \r\nQ 48.140625 66.109375 41.796875 66.109375 \r\nQ 29.296875 66.109375 22.65625 58.46875 \r\nQ 16.015625 50.828125 16.015625 36.375 \r\nQ 16.015625 21.96875 22.65625 14.328125 \r\nQ 29.296875 6.6875 41.796875 6.6875 \r\nQ 48.140625 6.6875 53.78125 8.984375 \r\nQ 59.421875 11.28125 64.40625 15.921875 \r\nL 64.40625 5.609375 \r\nQ 59.234375 2.09375 53.4375 0.328125 \r\nQ 47.65625 -1.421875 41.21875 -1.421875 \r\nQ 24.65625 -1.421875 15.125 8.703125 \r\nQ 5.609375 18.84375 5.609375 36.375 \r\nQ 5.609375 53.953125 15.125 64.078125 \r\nQ 24.65625 74.21875 41.21875 74.21875 \r\nQ 47.75 74.21875 53.53125 72.484375 \r\nQ 59.328125 70.75 64.40625 67.28125 \r\nz\r\n\" id=\"DejaVuSans-67\"/>\r\n      <path d=\"M 8.5 21.578125 \r\nL 8.5 54.6875 \r\nL 17.484375 54.6875 \r\nL 17.484375 21.921875 \r\nQ 17.484375 14.15625 20.5 10.265625 \r\nQ 23.53125 6.390625 29.59375 6.390625 \r\nQ 36.859375 6.390625 41.078125 11.03125 \r\nQ 45.3125 15.671875 45.3125 23.6875 \r\nL 45.3125 54.6875 \r\nL 54.296875 54.6875 \r\nL 54.296875 0 \r\nL 45.3125 0 \r\nL 45.3125 8.40625 \r\nQ 42.046875 3.421875 37.71875 1 \r\nQ 33.40625 -1.421875 27.6875 -1.421875 \r\nQ 18.265625 -1.421875 13.375 4.4375 \r\nQ 8.5 10.296875 8.5 21.578125 \r\nz\r\nM 31.109375 56 \r\nz\r\n\" id=\"DejaVuSans-117\"/>\r\n      <path d=\"M 41.109375 46.296875 \r\nQ 39.59375 47.171875 37.8125 47.578125 \r\nQ 36.03125 48 33.890625 48 \r\nQ 26.265625 48 22.1875 43.046875 \r\nQ 18.109375 38.09375 18.109375 28.8125 \r\nL 18.109375 0 \r\nL 9.078125 0 \r\nL 9.078125 54.6875 \r\nL 18.109375 54.6875 \r\nL 18.109375 46.1875 \r\nQ 20.953125 51.171875 25.484375 53.578125 \r\nQ 30.03125 56 36.53125 56 \r\nQ 37.453125 56 38.578125 55.875 \r\nQ 39.703125 55.765625 41.0625 55.515625 \r\nz\r\n\" id=\"DejaVuSans-114\"/>\r\n      <path d=\"M 9.8125 72.90625 \r\nL 19.671875 72.90625 \r\nL 19.671875 8.296875 \r\nL 55.171875 8.296875 \r\nL 55.171875 0 \r\nL 9.8125 0 \r\nz\r\n\" id=\"DejaVuSans-76\"/>\r\n      <path d=\"M 34.28125 27.484375 \r\nQ 23.390625 27.484375 19.1875 25 \r\nQ 14.984375 22.515625 14.984375 16.5 \r\nQ 14.984375 11.71875 18.140625 8.90625 \r\nQ 21.296875 6.109375 26.703125 6.109375 \r\nQ 34.1875 6.109375 38.703125 11.40625 \r\nQ 43.21875 16.703125 43.21875 25.484375 \r\nL 43.21875 27.484375 \r\nz\r\nM 52.203125 31.203125 \r\nL 52.203125 0 \r\nL 43.21875 0 \r\nL 43.21875 8.296875 \r\nQ 40.140625 3.328125 35.546875 0.953125 \r\nQ 30.953125 -1.421875 24.3125 -1.421875 \r\nQ 15.921875 -1.421875 10.953125 3.296875 \r\nQ 6 8.015625 6 15.921875 \r\nQ 6 25.140625 12.171875 29.828125 \r\nQ 18.359375 34.515625 30.609375 34.515625 \r\nL 43.21875 34.515625 \r\nL 43.21875 35.40625 \r\nQ 43.21875 41.609375 39.140625 45 \r\nQ 35.0625 48.390625 27.6875 48.390625 \r\nQ 23 48.390625 18.546875 47.265625 \r\nQ 14.109375 46.140625 10.015625 43.890625 \r\nL 10.015625 52.203125 \r\nQ 14.9375 54.109375 19.578125 55.046875 \r\nQ 24.21875 56 28.609375 56 \r\nQ 40.484375 56 46.34375 49.84375 \r\nQ 52.203125 43.703125 52.203125 31.203125 \r\nz\r\n\" id=\"DejaVuSans-97\"/>\r\n      <path d=\"M 48.6875 27.296875 \r\nQ 48.6875 37.203125 44.609375 42.84375 \r\nQ 40.53125 48.484375 33.40625 48.484375 \r\nQ 26.265625 48.484375 22.1875 42.84375 \r\nQ 18.109375 37.203125 18.109375 27.296875 \r\nQ 18.109375 17.390625 22.1875 11.75 \r\nQ 26.265625 6.109375 33.40625 6.109375 \r\nQ 40.53125 6.109375 44.609375 11.75 \r\nQ 48.6875 17.390625 48.6875 27.296875 \r\nz\r\nM 18.109375 46.390625 \r\nQ 20.953125 51.265625 25.265625 53.625 \r\nQ 29.59375 56 35.59375 56 \r\nQ 45.5625 56 51.78125 48.09375 \r\nQ 58.015625 40.1875 58.015625 27.296875 \r\nQ 58.015625 14.40625 51.78125 6.484375 \r\nQ 45.5625 -1.421875 35.59375 -1.421875 \r\nQ 29.59375 -1.421875 25.265625 0.953125 \r\nQ 20.953125 3.328125 18.109375 8.203125 \r\nL 18.109375 0 \r\nL 9.078125 0 \r\nL 9.078125 75.984375 \r\nL 18.109375 75.984375 \r\nz\r\n\" id=\"DejaVuSans-98\"/>\r\n     </defs>\r\n     <use xlink:href=\"#DejaVuSans-68\"/>\r\n     <use x=\"77.001953\" xlink:href=\"#DejaVuSans-101\"/>\r\n     <use x=\"138.525391\" xlink:href=\"#DejaVuSans-110\"/>\r\n     <use x=\"201.904297\" xlink:href=\"#DejaVuSans-115\"/>\r\n     <use x=\"254.003906\" xlink:href=\"#DejaVuSans-105\"/>\r\n     <use x=\"281.787109\" xlink:href=\"#DejaVuSans-116\"/>\r\n     <use x=\"320.996094\" xlink:href=\"#DejaVuSans-121\"/>\r\n     <use x=\"380.175781\" xlink:href=\"#DejaVuSans-32\"/>\r\n     <use x=\"411.962891\" xlink:href=\"#DejaVuSans-80\"/>\r\n     <use x=\"472.265625\" xlink:href=\"#DejaVuSans-108\"/>\r\n     <use x=\"500.048828\" xlink:href=\"#DejaVuSans-111\"/>\r\n     <use x=\"561.230469\" xlink:href=\"#DejaVuSans-116\"/>\r\n     <use x=\"600.439453\" xlink:href=\"#DejaVuSans-32\"/>\r\n     <use x=\"632.226562\" xlink:href=\"#DejaVuSans-119\"/>\r\n     <use x=\"714.013672\" xlink:href=\"#DejaVuSans-105\"/>\r\n     <use x=\"741.796875\" xlink:href=\"#DejaVuSans-116\"/>\r\n     <use x=\"781.005859\" xlink:href=\"#DejaVuSans-104\"/>\r\n     <use x=\"844.384766\" xlink:href=\"#DejaVuSans-32\"/>\r\n     <use x=\"876.171875\" xlink:href=\"#DejaVuSans-67\"/>\r\n     <use x=\"945.996094\" xlink:href=\"#DejaVuSans-104\"/>\r\n     <use x=\"1009.375\" xlink:href=\"#DejaVuSans-117\"/>\r\n     <use x=\"1072.753906\" xlink:href=\"#DejaVuSans-114\"/>\r\n     <use x=\"1112.117188\" xlink:href=\"#DejaVuSans-110\"/>\r\n     <use x=\"1175.496094\" xlink:href=\"#DejaVuSans-76\"/>\r\n     <use x=\"1231.208984\" xlink:href=\"#DejaVuSans-97\"/>\r\n     <use x=\"1292.488281\" xlink:href=\"#DejaVuSans-98\"/>\r\n     <use x=\"1355.964844\" xlink:href=\"#DejaVuSans-101\"/>\r\n     <use x=\"1417.488281\" xlink:href=\"#DejaVuSans-108\"/>\r\n    </g>\r\n   </g>\r\n   <g id=\"legend_1\">\r\n    <g id=\"patch_7\">\r\n     <path d=\"M 325.69675 97.942625 \r\nL 402.72925 97.942625 \r\nQ 405.92925 97.942625 405.92925 94.742625 \r\nL 405.92925 31.6945 \r\nQ 405.92925 28.4945 402.72925 28.4945 \r\nL 325.69675 28.4945 \r\nQ 322.49675 28.4945 322.49675 31.6945 \r\nL 322.49675 94.742625 \r\nQ 322.49675 97.942625 325.69675 97.942625 \r\nz\r\n\" style=\"fill:#ffffff;opacity:0.8;stroke:#cccccc;stroke-linejoin:miter;stroke-width:0.24;\"/>\r\n    </g>\r\n    <g id=\"text_19\">\r\n     <!-- ChurnLabel -->\r\n     <g transform=\"translate(335.757531 42.492938)scale(0.1 -0.1)\">\r\n      <use xlink:href=\"#DejaVuSans-67\"/>\r\n      <use x=\"69.824219\" xlink:href=\"#DejaVuSans-104\"/>\r\n      <use x=\"133.203125\" xlink:href=\"#DejaVuSans-117\"/>\r\n      <use x=\"196.582031\" xlink:href=\"#DejaVuSans-114\"/>\r\n      <use x=\"235.945312\" xlink:href=\"#DejaVuSans-110\"/>\r\n      <use x=\"299.324219\" xlink:href=\"#DejaVuSans-76\"/>\r\n      <use x=\"355.037109\" xlink:href=\"#DejaVuSans-97\"/>\r\n      <use x=\"416.316406\" xlink:href=\"#DejaVuSans-98\"/>\r\n      <use x=\"479.792969\" xlink:href=\"#DejaVuSans-101\"/>\r\n      <use x=\"541.316406\" xlink:href=\"#DejaVuSans-108\"/>\r\n     </g>\r\n    </g>\r\n    <g id=\"patch_8\">\r\n     <path d=\"M 328.89675 64.730125 \r\nL 360.89675 64.730125 \r\nL 360.89675 53.530125 \r\nL 328.89675 53.530125 \r\nz\r\n\" style=\"fill:#1f77b4;fill-opacity:0.25;stroke:#1f77b4;stroke-linejoin:miter;stroke-width:3;\"/>\r\n    </g>\r\n    <g id=\"text_20\">\r\n     <!-- Yes -->\r\n     <g transform=\"translate(373.69675 64.730125)scale(0.16 -0.16)\">\r\n      <defs>\r\n       <path d=\"M -0.203125 72.90625 \r\nL 10.40625 72.90625 \r\nL 30.609375 42.921875 \r\nL 50.6875 72.90625 \r\nL 61.28125 72.90625 \r\nL 35.5 34.71875 \r\nL 35.5 0 \r\nL 25.59375 0 \r\nL 25.59375 34.71875 \r\nz\r\n\" id=\"DejaVuSans-89\"/>\r\n      </defs>\r\n      <use xlink:href=\"#DejaVuSans-89\"/>\r\n      <use x=\"47.833984\" xlink:href=\"#DejaVuSans-101\"/>\r\n      <use x=\"109.357422\" xlink:href=\"#DejaVuSans-115\"/>\r\n     </g>\r\n    </g>\r\n    <g id=\"patch_9\">\r\n     <path d=\"M 328.89675 88.215125 \r\nL 360.89675 88.215125 \r\nL 360.89675 77.015125 \r\nL 328.89675 77.015125 \r\nz\r\n\" style=\"fill:#ff7f0e;fill-opacity:0.25;stroke:#ff7f0e;stroke-linejoin:miter;stroke-width:3;\"/>\r\n    </g>\r\n    <g id=\"text_21\">\r\n     <!-- No -->\r\n     <g transform=\"translate(373.69675 88.215125)scale(0.16 -0.16)\">\r\n      <defs>\r\n       <path d=\"M 9.8125 72.90625 \r\nL 23.09375 72.90625 \r\nL 55.421875 11.921875 \r\nL 55.421875 72.90625 \r\nL 64.984375 72.90625 \r\nL 64.984375 0 \r\nL 51.703125 0 \r\nL 19.390625 60.984375 \r\nL 19.390625 0 \r\nL 9.8125 0 \r\nz\r\n\" id=\"DejaVuSans-78\"/>\r\n      </defs>\r\n      <use xlink:href=\"#DejaVuSans-78\"/>\r\n      <use x=\"74.804688\" xlink:href=\"#DejaVuSans-111\"/>\r\n     </g>\r\n    </g>\r\n   </g>\r\n  </g>\r\n </g>\r\n <defs>\r\n  <clipPath id=\"pd553112c24\">\r\n   <rect height=\"239.184\" width=\"357.12\" x=\"56.80925\" y=\"20.4945\"/>\r\n  </clipPath>\r\n </defs>\r\n</svg>\r\n",
      "image/png": "[encoded data removed]"
     },
     "metadata": {
      "needs_background": "light"
     }
    }
   ],
   "source": [
    "# Example: Look at Churn vs MonthCharges\n",
    "plt.clf()\n",
    "for label in ['Yes','No']:\n",
    "    subset = data[data.ChurnLabel==label]\n",
    "    \n",
    "    # Draw the density plot\n",
    "    sns.distplot(subset['MonthlyCharges'], hist = False, kde = True,\n",
    "                 kde_kws = {'linewidth': 3, 'shade':True},\n",
    "                 label = label)\n",
    "    \n",
    "# Plot formatting\n",
    "plt.legend(prop={'size': 16}, title = 'ChurnLabel')\n",
    "plt.title('Density Plot with ChurnLabel')\n",
    "plt.xlabel('') # Monthly Charges\n",
    "plt.ylabel('Density')\n",
    "plt.show()"
   ]
  },
  {
   "cell_type": "code",
   "execution_count": null,
   "metadata": {},
   "outputs": [],
   "source": [
    "# Additional Exploration"
   ]
  }
 ],
 "metadata": {
  "kernelspec": {
   "name": "python3",
   "display_name": "Python 3.8.8 64-bit ('base': conda)"
  },
  "language_info": {
   "codemirror_mode": {
    "name": "ipython",
    "version": 3
   },
   "file_extension": ".py",
   "mimetype": "text/x-python",
   "name": "python",
   "nbconvert_exporter": "python",
   "pygments_lexer": "ipython3",
   "version": "3.8.8"
  },
  "interpreter": {
   "hash": "01a55ce7111c1fe1c2ac875901ffdada59983eb3c9a97afd7f0e7d1a4dad1f6a"
  }
 },
 "nbformat": 4,
 "nbformat_minor": 4
}